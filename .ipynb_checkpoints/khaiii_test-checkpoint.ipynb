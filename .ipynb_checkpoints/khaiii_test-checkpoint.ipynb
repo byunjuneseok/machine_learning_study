{
 "cells": [
  {
   "cell_type": "code",
   "execution_count": 1,
   "metadata": {},
   "outputs": [],
   "source": [
    "import khaiii"
   ]
  },
  {
   "cell_type": "code",
   "execution_count": 2,
   "metadata": {},
   "outputs": [],
   "source": [
    "api = khaiii.KhaiiiApi()\n",
    "api.open()"
   ]
  },
  {
   "cell_type": "code",
   "execution_count": 4,
   "metadata": {},
   "outputs": [
    {
     "name": "stdout",
     "output_type": "stream",
     "text": [
      "박준\t박준/NNP\n",
      "교수님의\t교수/NNG + 님/XSN + 의/JKG\n",
      "연구실에는\t연구실/NNG + 에/JKB + 는/JX\n",
      "두\t두/MM\n",
      "가지\t가지/NNB\n",
      "팀이\t팀/NNG + 이/JKS\n",
      "있습니다.\t있/VV + 습니다/EF + ./SF\n"
     ]
    }
   ],
   "source": [
    "for word in api.analyze('이 의원은 혜경궁 김씨 트위터 계정에 대해 “선을 넘어선 내용이 많다”고 지적하며 이재명 지사의 아내 김혜경 씨가 직접 혜경궁 김씨 계정에 직접 글을 올리지 않았더라도 책임이 있다고 강조했다.\n",
    "\n",
    "\n",
    "출처 : 중부일보(http://www.joongboo.com)'):\n",
    "    morphs_str = ' + '.join([(m.lex + '/' + m.tag) for m in word.morphs])\n",
    "    print(f'{word.lex}\\t{morphs_str}')"
   ]
  },
  {
   "cell_type": "code",
   "execution_count": null,
   "metadata": {},
   "outputs": [],
   "source": []
  }
 ],
 "metadata": {
  "kernelspec": {
   "display_name": "Python 3",
   "language": "python",
   "name": "python3"
  },
  "language_info": {
   "codemirror_mode": {
    "name": "ipython",
    "version": 3
   },
   "file_extension": ".py",
   "mimetype": "text/x-python",
   "name": "python",
   "nbconvert_exporter": "python",
   "pygments_lexer": "ipython3",
   "version": "3.6.7"
  }
 },
 "nbformat": 4,
 "nbformat_minor": 2
}
