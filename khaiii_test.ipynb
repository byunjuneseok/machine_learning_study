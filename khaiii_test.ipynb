{
 "cells": [
  {
   "cell_type": "code",
   "execution_count": 1,
   "metadata": {},
   "outputs": [],
   "source": [
    "import khaiii"
   ]
  },
  {
   "cell_type": "code",
   "execution_count": 2,
   "metadata": {},
   "outputs": [],
   "source": [
    "api = khaiii.KhaiiiApi()\n",
    "api.open()"
   ]
  },
  {
   "cell_type": "code",
   "execution_count": 5,
   "metadata": {},
   "outputs": [
    {
     "name": "stdout",
     "output_type": "stream",
     "text": [
      "이\t이/MM\n",
      "의원은\t의원/NNG + 은/JX\n",
      "혜경궁\t혜경궁/NNP\n",
      "김씨\t김/NNP + 씨/NNB\n",
      "트위터\t트위터/NNG\n",
      "계정에\t계정/NNG + 에/JKB\n",
      "대해\t대하/VV + 여/EC\n",
      "“선을\t“/SS + 선/NNG + 을/JKO\n",
      "넘어선\t넘어서/VV + ㄴ/ETM\n",
      "내용이\t내용/NNG + 이/JKS\n",
      "많다”고\t많/VA + 다/EF + ”/SS + 고/JKQ\n",
      "지적하며\t지적/NNG + 하/XSV + 며/EC\n",
      "이재명\t이재명/NNP\n",
      "지사의\t지사/NNG + 의/JKG\n",
      "아내\t아내/NNG\n",
      "김혜경\t김혜경/NNP\n",
      "씨가\t씨/NNB + 가/JKS\n",
      "직접\t직접/MAG\n",
      "혜경궁\t혜경궁/NNP\n",
      "김씨\t김/NNP + 씨/NNB\n",
      "계정에\t계정/NNG + 에/JKB\n",
      "직접\t직접/MAG\n",
      "글을\t글/NNG + 을/JKO\n",
      "올리지\t올리/VV + 지/EC\n",
      "않았더라도\t않/VX + 았/EP + 더라도/EC\n",
      "책임이\t책임/NNG + 이/JKS\n",
      "있다고\t있/VV + 다고/EC\n",
      "강조했다.\t강조/NNG + 하/XSV + 였/EP + 다/EF + ./SF\n"
     ]
    }
   ],
   "source": [
    "for word in api.analyze('이 의원은 혜경궁 김씨 트위터 계정에 대해 “선을 넘어선 내용이 많다”고 지적하며 이재명 지사의 아내 김혜경 씨가 직접 혜경궁 김씨 계정에 직접 글을 올리지 않았더라도 책임이 있다고 강조했다.'):\n",
    "    morphs_str = ' + '.join([(m.lex + '/' + m.tag) for m in word.morphs])\n",
    "    print(f'{word.lex}\\t{morphs_str}')"
   ]
  },
  {
   "cell_type": "code",
   "execution_count": 8,
   "metadata": {},
   "outputs": [
    {
     "ename": "TypeError",
     "evalue": "'method' object is not subscriptable",
     "output_type": "error",
     "traceback": [
      "\u001b[0;31m---------------------------------------------------------------------------\u001b[0m",
      "\u001b[0;31mTypeError\u001b[0m                                 Traceback (most recent call last)",
      "\u001b[0;32m<ipython-input-8-9d56f3693f2d>\u001b[0m in \u001b[0;36m<module>\u001b[0;34m\u001b[0m\n\u001b[0;32m----> 1\u001b[0;31m \u001b[0mprint\u001b[0m\u001b[0;34m(\u001b[0m\u001b[0mapi\u001b[0m\u001b[0;34m.\u001b[0m\u001b[0manalyze\u001b[0m\u001b[0;34m[\u001b[0m\u001b[0;36m0\u001b[0m\u001b[0;34m]\u001b[0m\u001b[0;34m)\u001b[0m\u001b[0;34m\u001b[0m\u001b[0;34m\u001b[0m\u001b[0m\n\u001b[0m",
      "\u001b[0;31mTypeError\u001b[0m: 'method' object is not subscriptable"
     ]
    }
   ],
   "source": []
  },
  {
   "cell_type": "code",
   "execution_count": null,
   "metadata": {},
   "outputs": [],
   "source": []
  }
 ],
 "metadata": {
  "kernelspec": {
   "display_name": "Python 3",
   "language": "python",
   "name": "python3"
  },
  "language_info": {
   "codemirror_mode": {
    "name": "ipython",
    "version": 3
   },
   "file_extension": ".py",
   "mimetype": "text/x-python",
   "name": "python",
   "nbconvert_exporter": "python",
   "pygments_lexer": "ipython3",
   "version": "3.6.7"
  }
 },
 "nbformat": 4,
 "nbformat_minor": 2
}
