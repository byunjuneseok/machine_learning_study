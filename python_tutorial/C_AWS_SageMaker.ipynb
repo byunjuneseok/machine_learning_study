{
 "cells": [
  {
   "cell_type": "markdown",
   "metadata": {},
   "source": [
    "# C. AWS SageMaker\n",
    "\n",
    "\n",
    "**Juneseok Byun**, 2018 (byunjuneseok@gmail.com, 'The Laboratory, The 2nd brain & the 3rd eye)\n",
    "\n",
    "#### Objectives\n",
    "\n",
    "*일정 진도 이후에 소개해 드립니다.*\n",
    "\n",
    "---\n"
   ]
  },
  {
   "cell_type": "code",
   "execution_count": null,
   "metadata": {},
   "outputs": [],
   "source": []
  }
 ],
 "metadata": {
  "kernelspec": {
   "display_name": "Python 3",
   "language": "python",
   "name": "python3"
  },
  "language_info": {
   "codemirror_mode": {
    "name": "ipython",
    "version": 3
   },
   "file_extension": ".py",
   "mimetype": "text/x-python",
   "name": "python",
   "nbconvert_exporter": "python",
   "pygments_lexer": "ipython3",
   "version": "3.6.6"
  }
 },
 "nbformat": 4,
 "nbformat_minor": 2
}
