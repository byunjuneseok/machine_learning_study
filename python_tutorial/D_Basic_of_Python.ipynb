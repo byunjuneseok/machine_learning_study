{
 "cells": [
  {
   "cell_type": "markdown",
   "metadata": {},
   "source": [
    "# D. Basic of Python\n",
    "\n",
    "**Juneseok Byun**, 2018 (byunjuneseok@gmail.com, 'The Laboratory, The 2nd brain & the 3rd eye)\n",
    "\n",
    "#### Objectives\n",
    "1. Basic \n",
    "2. Data Structure\n",
    "3. Coroutine\n",
    "\n",
    "*실습 가능한 정도로 기말고사 전에 학습. 최적화된 Python 학습은 기말고사 이후부터 틈틈이 하겠습니다.*\n",
    "\n",
    "---\n"
   ]
  },
  {
   "cell_type": "markdown",
   "metadata": {},
   "source": [
    "## 변수 & DATA TYPE"
   ]
  },
  {
   "cell_type": "markdown",
   "metadata": {},
   "source": [
    "### 변수\n",
    "\n",
    "* 정수형 : `int`\n",
    "* 실수형 : `float`\n",
    "**참고** : Python2 에서는 `int`, `long`, `float`, `double`형이 존재했지만 파이썬에서는 `int`와 `float`로 통합되었습니다.\n",
    "* 수의 범위 제한이 없습니다."
   ]
  },
  {
   "cell_type": "code",
   "execution_count": null,
   "metadata": {},
   "outputs": [],
   "source": [
    "print(3 ** 1000)"
   ]
  },
  {
   "cell_type": "markdown",
   "metadata": {},
   "source": [
    "* boolean\n",
    "    * 숫자 0은 False, 그 이외에는 True\n",
    "    * 빈 문자열은 False, 그 이외에는 True\n",
    "    * 빈 list/tuple/set/dict 는 False, 그 이외에는 True\n"
   ]
  },
  {
   "cell_type": "markdown",
   "metadata": {},
   "source": [
    "### 실습"
   ]
  },
  {
   "cell_type": "markdown",
   "metadata": {},
   "source": [
    "### Container\n",
    "\n",
    "* List : 여러 값을 순차적으로 저장, **순서를 보장**"
   ]
  },
  {
   "cell_type": "code",
   "execution_count": null,
   "metadata": {},
   "outputs": [],
   "source": [
    "num = [2, 4, 6, 8, 10]\n",
    "\n",
    "print(8 in num)\n",
    "print(3 in num)\n",
    "\n",
    "print(num[0], num[-2])   # 음수 색인을 지원합니다."
   ]
  },
  {
   "cell_type": "code",
   "execution_count": null,
   "metadata": {},
   "outputs": [],
   "source": [
    "# 범위 밖의 색인을 참조하는 경우 IndexError 예외 발생\n",
    "print(num[7])"
   ]
  },
  {
   "cell_type": "code",
   "execution_count": null,
   "metadata": {},
   "outputs": [],
   "source": [
    "num.append(9)\n",
    "print('pop!', num.pop(3))    ## 특정 색인의 값을 가져옴과 동시에 제거\n",
    "num.remove(6)                ## 특정 값을 1회 제거\n",
    "num.insert(1, 11)            ## 특정 위치에 값을 추가"
   ]
  },
  {
   "cell_type": "code",
   "execution_count": null,
   "metadata": {},
   "outputs": [],
   "source": [
    "num = [1, 2, 3, 4, 5, 6, 7, 8, 9, 10]\n",
    "print(num[3:])       # START:\n",
    "print(num[:3])       # :END\n",
    "print(num[2:7])      # START:END\n",
    "print(num[3:9:2])    # START:END:INTERVAL\n",
    "print(num[::-1])     ## REVERSE"
   ]
  },
  {
   "cell_type": "code",
   "execution_count": null,
   "metadata": {},
   "outputs": [],
   "source": [
    "m = [1, 2, 3, 4]\n",
    "n = [2, 3, 4, 5]\n",
    "print(m + n)"
   ]
  },
  {
   "cell_type": "markdown",
   "metadata": {},
   "source": [
    "* Tuple : list와 유사하지만 변경 불가능."
   ]
  },
  {
   "cell_type": "code",
   "execution_count": null,
   "metadata": {},
   "outputs": [],
   "source": [
    "tu = (1, 2, 3 ,4)"
   ]
  },
  {
   "cell_type": "markdown",
   "metadata": {},
   "source": [
    "* dict : key와 value의 쌍으로 구성된 집합. **Key의 중복을 허용하지 않습니다.**"
   ]
  },
  {
   "cell_type": "code",
   "execution_count": null,
   "metadata": {},
   "outputs": [],
   "source": [
    "di = {\n",
    "    'name' : 'Nilsen',\n",
    "    'age'  : 26,\n",
    "    'city' : 'Seoul',\n",
    "}"
   ]
  },
  {
   "cell_type": "code",
   "execution_count": null,
   "metadata": {},
   "outputs": [],
   "source": [
    "di = {\n",
    "    'Jason' : 10,\n",
    "    'Tom'   : 15, \n",
    "    'Anne'  : 12\n",
    "}"
   ]
  },
  {
   "cell_type": "code",
   "execution_count": null,
   "metadata": {},
   "outputs": [],
   "source": [
    "print(di.keys())\n",
    "print(di.values())\n",
    "print(di.items())"
   ]
  },
  {
   "cell_type": "code",
   "execution_count": null,
   "metadata": {},
   "outputs": [],
   "source": [
    "print(di['Anne'])\n",
    "print(di['Mark'])"
   ]
  },
  {
   "cell_type": "markdown",
   "metadata": {},
   "source": [
    "## Rule of python\n",
    "\n",
    "### 들여쓰기와 주석\n",
    "\n",
    "* 코드의 가독성을 좋게 하기 위하여, https://www.python.org/dev/peps/pep-0008/#indentation (Python Style Guide의 # Indentation)에 따라서 공백 **4칸**을 권장\n",
    "* Indent가 잘못되있다면 `IndentationError` 발생\n",
    "* 주석은 한 줄 주석만 지원 `#`\n",
    "* 여러 줄 주석과 비슷하게 할 수 있는 것은 문자열"
   ]
  },
  {
   "cell_type": "markdown",
   "metadata": {},
   "source": [
    "### 흐름 제어"
   ]
  },
  {
   "cell_type": "code",
   "execution_count": null,
   "metadata": {},
   "outputs": [],
   "source": []
  },
  {
   "cell_type": "markdown",
   "metadata": {},
   "source": [
    "### 함수"
   ]
  },
  {
   "cell_type": "code",
   "execution_count": null,
   "metadata": {},
   "outputs": [],
   "source": []
  },
  {
   "cell_type": "code",
   "execution_count": null,
   "metadata": {},
   "outputs": [],
   "source": []
  },
  {
   "cell_type": "code",
   "execution_count": null,
   "metadata": {},
   "outputs": [],
   "source": []
  },
  {
   "cell_type": "markdown",
   "metadata": {},
   "source": [
    "### Scope\n",
    "변수가 선언되어, 해당 변수가 영향을 미치는 영역\n",
    "* 지역 변수 (Local Variable) : 함수 안에서 선언되어 함수 내에서만 활용이 가능합니다.\n",
    "* 전역 변수 (Global Variable) : 함수 밖에서 선언되어, 함수 안에서도 활용이 가능합니다."
   ]
  },
  {
   "cell_type": "markdown",
   "metadata": {},
   "source": [
    "## Iterables vs Iterators vs Generators\n",
    "\n",
    "\n",
    "![](img/iterable.png)\n",
    "\n",
    "* iterable: 순회 가능한 객체\n",
    "    * `set`, `list`, `dict`, `tuple`, `string`, `generator`는 모두 순회가능한 객체\n",
    "    * `for in` 구문에서 활용 가능합니다.\n",
    "    \n",
    "    \n",
    "* Generator : 연속된 값들을 생산해내는 객체 *함수에 `yield` 키워드가 사용되면 제너레이터이며 yield 한 값이 순차적으로 생산됩니다..*\n",
    "    * Generator expression : 제너레이터 표현식\n",
    "    * Generator function : 제네레이터 함수\n",
    "    * 추가 yield가 없으면, StopIteration 예외 자동 발생\n",
    "        * for 루프는 StopIteration 예외를 자동\n",
    "        * 직접 StopIteration 에외를 발생시켜도 됩니다."
   ]
  },
  {
   "cell_type": "code",
   "execution_count": null,
   "metadata": {},
   "outputs": [],
   "source": [
    "# a generator expression\n",
    "(i ** 2 for i in range(10))"
   ]
  },
  {
   "cell_type": "code",
   "execution_count": null,
   "metadata": {},
   "outputs": [],
   "source": [
    "# generator expression 으로 list 생성\n",
    "list(i**2 for i in range(10))"
   ]
  },
  {
   "cell_type": "code",
   "execution_count": null,
   "metadata": {},
   "outputs": [],
   "source": [
    "# a generator function\n",
    "def power():\n",
    "    for i in range(10):\n",
    "        yield i ** 2\n",
    "\n",
    "power()"
   ]
  },
  {
   "cell_type": "code",
   "execution_count": null,
   "metadata": {},
   "outputs": [],
   "source": [
    "list(power())"
   ]
  },
  {
   "cell_type": "code",
   "execution_count": null,
   "metadata": {},
   "outputs": [],
   "source": [
    "mydict = {'a': 1, 'b': 2, 'c' : 3}\n",
    "\n",
    "for key in mydict:\n",
    "    print(mydict[key])"
   ]
  },
  {
   "cell_type": "code",
   "execution_count": null,
   "metadata": {},
   "outputs": [],
   "source": [
    "for key in mydict.keys():\n",
    "    print(mydict[key])"
   ]
  },
  {
   "cell_type": "code",
   "execution_count": null,
   "metadata": {},
   "outputs": [],
   "source": [
    "for v in mydict.values():\n",
    "    print(v)"
   ]
  },
  {
   "cell_type": "code",
   "execution_count": null,
   "metadata": {},
   "outputs": [],
   "source": [
    "for (key, value) in mydict.items():\n",
    "    print(key, value)"
   ]
  },
  {
   "cell_type": "markdown",
   "metadata": {},
   "source": [
    "### `yield`\n",
    "\n",
    "`yield`는 함수 실행 중간에 빠져나올 수 있는 generator를 만들 때 사용합니다. `return` 이었다면 'one'이 반환되고 끝났겠지만 실제로는 그 뒤로도 다시 사용할 수 있게 됩니다."
   ]
  },
  {
   "cell_type": "code",
   "execution_count": null,
   "metadata": {},
   "outputs": [],
   "source": [
    "def gen():\n",
    "    yield 'one'\n",
    "    yield 'two'\n",
    "    yield 'three'\n",
    "\n",
    "g = gen()\n",
    "print(next(g))  # one\n",
    "print(next(g))  # two\n",
    "print(next(g))  # three\n",
    "print(next(g))  # raise StopIteration"
   ]
  },
  {
   "cell_type": "markdown",
   "metadata": {},
   "source": [
    "`yield`는 단순히 값을 내보낼 수만 있는 것은 아니고, 넣어줄 수도 있습니다."
   ]
  },
  {
   "cell_type": "code",
   "execution_count": null,
   "metadata": {},
   "outputs": [],
   "source": [
    "def gen():\n",
    "    val = 111111\n",
    "    while True:\n",
    "        val = (yield val) * 111111\n",
    "\n",
    "g = gen()\n",
    "print(next(g))  # 111111\n",
    "print(g.send(2))  # 222222\n",
    "print(g.send(3))  # 333333"
   ]
  },
  {
   "cell_type": "markdown",
   "metadata": {},
   "source": [
    "## 코루틴 & 제너레이터\n",
    "\n",
    "### `range` vs `xrange`\n",
    "* 파이썬 3에서는 range가 제거되고, xrange가 range로 변경되었습니다.\n",
    "    * `range` @ python2 : 가용값들을 미리 생성하고 시작하느냐 (메모리공간 ++)\n",
    "    * `xrange` @ python2 : 값의 범위만 정해두고, 값을 그때 그때 생성해내느냐 (+ CPU연산)"
   ]
  },
  {
   "cell_type": "code",
   "execution_count": null,
   "metadata": {},
   "outputs": [],
   "source": [
    "def myrange(start, end, step):\n",
    "    mylist = []\n",
    "    while start < end:\n",
    "        mylist.append(start)\n",
    "        start += step\n",
    "    return mylist\n",
    "\n",
    "def myxrange(start, end, step):    # 코루틴 생성\n",
    "    while start < end:\n",
    "        yield start                # generator 문법\n",
    "        start += step"
   ]
  },
  {
   "cell_type": "markdown",
   "metadata": {},
   "source": [
    "### Co-routine (코루틴)\n",
    "* Sub Routine : 일반적인 함수\n",
    "    * 진입점이 하나이며, 부모/자식의 종속적인 관계가 성립\n",
    "    * 매 호출시마다, Routine내의 context가 초기화\n",
    "* Co Routine : 코루틴\n",
    "    * 진입점이 여럿이며, 병렬(Concurrency, not Parallelism) 수행\n",
    "    * 호출부와 대응한 관계\n",
    "    * 여러 번이 호출되어도, Routine 내 Context 가 유지"
   ]
  },
  {
   "cell_type": "code",
   "execution_count": null,
   "metadata": {},
   "outputs": [],
   "source": [
    "def mysum(x, y):\n",
    "    x += 1\n",
    "    y += 1\n",
    "    return x + y\n",
    "\n",
    "def to_3(base):\n",
    "    i = 0\n",
    "    yield base\n",
    "    i += 1\n",
    "    yield base + 1\n",
    "    i += 1\n",
    "    yield base + 2\n",
    "    i += 1\n",
    "    yield base + 3\n",
    "    yield i\n",
    "\n",
    "a = 1\n",
    "b = 2\n",
    "\n",
    "generator_obj1 = to_3(10)\n",
    "generator_obj2 = to_3(20)\n",
    "generator_obj3 = to_3(30)\n",
    "\n",
    "c = a + b\n",
    "\n",
    "print(mysum(a, b))\n",
    "print(next(generator_obj1))  # 10\n",
    "print(next(generator_obj1))  # 11\n",
    "print(next(generator_obj2))  # 20\n",
    "print(next(generator_obj2))  # 21\n",
    "print(next(generator_obj3))  # 30\n",
    "print(c)                     # 3\n",
    "print(mysum(10, 20))"
   ]
  },
  {
   "cell_type": "markdown",
   "metadata": {},
   "source": [
    "### Generator Expression\n",
    "\n",
    "`[ 표현식 for 변수 in 순회가능한 객체]` 또는 `[ 표현식 for 변수 in 순회가능한 객체 if 필터링 조건 ]` : 순회 가능한 객체를 조작하여 필터링/새로운 list/dict/set을 만들 수 있는 간단한 방법이 있습니다."
   ]
  },
  {
   "cell_type": "code",
   "execution_count": 1,
   "metadata": {},
   "outputs": [
    {
     "data": {
      "text/plain": [
       "[0, 1, 4, 9, 16, 25, 36, 49, 64, 81]"
      ]
     },
     "execution_count": 1,
     "metadata": {},
     "output_type": "execute_result"
    }
   ],
   "source": [
    "[i**2 for i in range(10)]"
   ]
  },
  {
   "cell_type": "code",
   "execution_count": null,
   "metadata": {},
   "outputs": [],
   "source": [
    "(i**2 for i in range(10))"
   ]
  },
  {
   "cell_type": "code",
   "execution_count": 2,
   "metadata": {},
   "outputs": [
    {
     "data": {
      "text/plain": [
       "[0, 4, 16, 36, 64]"
      ]
     },
     "execution_count": 2,
     "metadata": {},
     "output_type": "execute_result"
    }
   ],
   "source": [
    "[i**2 for i in range(10) if i % 2 == 0]"
   ]
  },
  {
   "cell_type": "code",
   "execution_count": null,
   "metadata": {},
   "outputs": [],
   "source": []
  }
 ],
 "metadata": {
  "kernelspec": {
   "display_name": "Python 3",
   "language": "python",
   "name": "python3"
  },
  "language_info": {
   "codemirror_mode": {
    "name": "ipython",
    "version": 3
   },
   "file_extension": ".py",
   "mimetype": "text/x-python",
   "name": "python",
   "nbconvert_exporter": "python",
   "pygments_lexer": "ipython3",
   "version": "3.6.6"
  }
 },
 "nbformat": 4,
 "nbformat_minor": 2
}
