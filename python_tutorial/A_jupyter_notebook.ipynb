{
 "cells": [
  {
   "cell_type": "markdown",
   "metadata": {},
   "source": [
    "# A. Jupyter notebook Tutorial\n",
    "\n",
    "Juneseok Byun, 2018 (byunjuneseok@gmail.com, 'The Laboratory, The 2nd brain & the 3rd eye)\n",
    "\n",
    "#### Objectives\n",
    "1. Jupyter Notebook\n",
    "2. `Cell`\n",
    "3. Markdown\n",
    "\n",
    "---"
   ]
  },
  {
   "cell_type": "markdown",
   "metadata": {},
   "source": [
    "## 1. Jupyter Notebook 설치 및 실행"
   ]
  },
  {
   "cell_type": "markdown",
   "metadata": {},
   "source": [
    "## 2. `Cell`"
   ]
  },
  {
   "cell_type": "markdown",
   "metadata": {},
   "source": [
    "`Alt + Enter` 와 `Ctrl + Enter` 와 `Shift + Enter`의 차이를 확인할 수 있습니다."
   ]
  },
  {
   "cell_type": "code",
   "execution_count": 2,
   "metadata": {},
   "outputs": [
    {
     "name": "stdout",
     "output_type": "stream",
     "text": [
      "Hello, Hi-Arc2\n"
     ]
    }
   ],
   "source": [
    "print('Hello, Hi-Arc2')"
   ]
  },
  {
   "cell_type": "markdown",
   "metadata": {},
   "source": [
    "## 3. Markdown"
   ]
  },
  {
   "cell_type": "markdown",
   "metadata": {},
   "source": [
    "셀을 마크다운 셀로 전환하려면 `m`을, 코드 셀로 전환하려면 `Y`를 누르세요."
   ]
  },
  {
   "cell_type": "markdown",
   "metadata": {},
   "source": [
    "'Show Line Number' 기능을 활성화하려면 `View` > `Show Line Numbers` 를 누르세요."
   ]
  },
  {
   "cell_type": "code",
   "execution_count": null,
   "metadata": {},
   "outputs": [],
   "source": []
  },
  {
   "cell_type": "markdown",
   "metadata": {},
   "source": [
    "### 단축키 정리\n",
    "* 선택된 셀 기준으로 위에 셀을 생성 : A\n",
    "* 선택된 셀 기준으로 아래에 셀을 생성 : B\n",
    "* 선택된 셀 삭제 : D, D\n",
    "* 선택된 셀 복사 : C\n",
    "* 선택된 셀 잘라내기 : X\n",
    "* 선택된 셀 아래로 복사 / 잘라내기한 셀 붙여넣기 : V"
   ]
  },
  {
   "cell_type": "markdown",
   "metadata": {},
   "source": [
    "## 4. 구동 환경의 파악을 확인할 수 있습니다."
   ]
  },
  {
   "cell_type": "code",
   "execution_count": null,
   "metadata": {},
   "outputs": [],
   "source": [
    "from tensorflow.python.client import device_lib\n",
    "device_lib.list_local_devices()"
   ]
  },
  {
   "cell_type": "code",
   "execution_count": 3,
   "metadata": {},
   "outputs": [
    {
     "data": {
      "text/plain": [
       "'Linux-4.15.0-38-generic-x86_64-with-Ubuntu-18.04-bionic'"
      ]
     },
     "execution_count": 3,
     "metadata": {},
     "output_type": "execute_result"
    }
   ],
   "source": [
    "import platform\n",
    "\n",
    "platform.platform()"
   ]
  },
  {
   "cell_type": "code",
   "execution_count": null,
   "metadata": {},
   "outputs": [],
   "source": [
    "!cat /proc/meminfo"
   ]
  },
  {
   "cell_type": "code",
   "execution_count": null,
   "metadata": {},
   "outputs": [],
   "source": [
    "!cat /proc/cpuinfo"
   ]
  },
  {
   "cell_type": "code",
   "execution_count": 11,
   "metadata": {},
   "outputs": [
    {
     "name": "stdout",
     "output_type": "stream",
     "text": [
      "Python 2.7.15rc1\n",
      "Python 3.6.6\n"
     ]
    }
   ],
   "source": [
    "### 커널의 종류를 꼭 확인하세요!\n",
    "!python --version\n",
    "### 또는 \n",
    "!python3 --version"
   ]
  }
 ],
 "metadata": {
  "kernelspec": {
   "display_name": "Python 3",
   "language": "python",
   "name": "python3"
  },
  "language_info": {
   "codemirror_mode": {
    "name": "ipython",
    "version": 3
   },
   "file_extension": ".py",
   "mimetype": "text/x-python",
   "name": "python",
   "nbconvert_exporter": "python",
   "pygments_lexer": "ipython3",
   "version": "3.6.6"
  }
 },
 "nbformat": 4,
 "nbformat_minor": 2
}
