{
 "cells": [
  {
   "cell_type": "markdown",
   "metadata": {},
   "source": [
    "# E. Before Machine Learning & Deep Learning\n",
    "\n",
    "**Juneseok Byun**, 2018 (byunjuneseok@gmail.com, 'The Laboratory, The 2nd brain & the 3rd eye)\n",
    "\n",
    "\n",
    "---\n",
    "\n",
    "## 어떤 라이브러리를 사용해야 하는가?\n",
    "\n",
    "### 참고할만한 링크\n",
    "* **Deep Learning Framework Power Scores** : https://towardsdatascience.com/deep-learning-framework-power-scores-2018-23607ddf297a\n",
    "* **TOP 20 Python Libraries for Data Science in 2018** : https://medium.com/activewizards-machine-learning-company/top-20-python-libraries-for-data-science-in-2018-2ae7d1db8049\n",
    "* **Profiling Top Kagglers** : http://blog.kaggle.com/2018/05/07/profiling-top-kagglers-bestfitting-currently-1-in-the-world/\n",
    "\n",
    "\n",
    "### 자료"
   ]
  },
  {
   "cell_type": "markdown",
   "metadata": {},
   "source": [
    "\n",
    "![](img/github.png)"
   ]
  },
  {
   "cell_type": "markdown",
   "metadata": {},
   "source": [
    "![](img/power.png)"
   ]
  },
  {
   "cell_type": "markdown",
   "metadata": {},
   "source": [
    "![](img/job.png)"
   ]
  },
  {
   "cell_type": "markdown",
   "metadata": {},
   "source": [
    "![](img/google.png)"
   ]
  },
  {
   "cell_type": "markdown",
   "metadata": {},
   "source": [
    "![](img/paper.png)"
   ]
  },
  {
   "cell_type": "code",
   "execution_count": null,
   "metadata": {},
   "outputs": [],
   "source": []
  }
 ],
 "metadata": {
  "kernelspec": {
   "display_name": "Python 3",
   "language": "python",
   "name": "python3"
  },
  "language_info": {
   "codemirror_mode": {
    "name": "ipython",
    "version": 3
   },
   "file_extension": ".py",
   "mimetype": "text/x-python",
   "name": "python",
   "nbconvert_exporter": "python",
   "pygments_lexer": "ipython3",
   "version": "3.6.6"
  }
 },
 "nbformat": 4,
 "nbformat_minor": 2
}
