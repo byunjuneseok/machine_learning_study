{
 "cells": [
  {
   "cell_type": "markdown",
   "metadata": {},
   "source": [
    "# Chapter 1 : 고성능을 위한 파이썬 이해하기\n",
    "**High Performance Python (고성능 파이썬)** : 파이썬 성능 잠재력을 끌어내는 실용적인 개발 전략서, 한빛 미디어\n",
    "\n",
    "### 이번 장에서 배울 내용\n",
    "* 컴퓨터의 구성요소\n",
    "* 컴퓨터 구성요소의 다양한 종류\n",
    "* 파이썬에서 컴퓨터 구성요소를 추상화하는 방법\n",
    "* \n",
    "\n",
    "---"
   ]
  },
  {
   "cell_type": "markdown",
   "metadata": {},
   "source": [
    "![이미지!](img/cover_hpp.jpg)\n",
    "\n",
    "### 들어가며 중 일부\n",
    "누군가는 일련의 프로세스를 빠르게 실행해야 하고, 다른 누군가는 멀티 코어 아키텍쳐, 클러스터 또는 GPU를 제대로 활용하지 못해 애를 먹고 있을 것이다. 또 다른 누군가는 신뢰성을 잃지 않으면서도 주어진 예산 안에서 필요한 만큼의 프로세스를 사용할 수 있는 확장 가능한 시스템을 원한다. 어떤 사람은 코딩 실력의 부족함을 느끼기도 한다. 종종 다른 언어에서 차용한 기법이 예제에서 본 것만큼 자연스럽지 않은 경우도 있다.\n",
    "\n",
    "* 컴퓨터의 저수준 동작방식을 이해하여 실제로 어떤 일이 일어나는 지 알 수 있다.\n",
    "* 리스트와 튜플 : 기본적인 자료구조인 리스트와 튜플의 미묘한 의미적인 차이와 속도 차이\n",
    "* 사전과 셋 : 중요한 자료구조인 사전과 셋의 메모리 할당 전략과 접근 알고리즘\n",
    "* 이터레이터 : 이터레이터를 통해 데이터를 스트리밍하는 방법과 더 파이썬다운 코드를 작성하는 방법\n",
    "* 순수 파이썬 방식의 접근 : 파이썬과 모듈을 효율적으로 사용하는 방법\n",
    "* 행렬과 numpy : `numpy` 라이브러리를 고수처럼 사용하기\n",
    "* 컴파일과 JIT : 빠른 처리를 위해 기계코드로 컴파일하기, 프로파일링 결과 반영하기\n",
    "* 대이터를 효과적으로 옮기기 위한 동시적인 접근 방법\n",
    "* multi-processing : 병렬 컴퓨팅을 위해 기본 라이브러리인 `multiprocessing` 모듈을 이용하는 다양한 방법, 효과적으로 `numpy` 행렬을 공유하기, 그리고 프로세스간 통신 (IPC) 비용과 장점\n",
    "* 클러스터 컴퓨팅 : `multiprocessing`을 사용한 코드를 수정하여 로컬 또는 클러스터에서 실행하는 방법\n",
    "* 메모리 아껴 쓰기 : 비싼 컴퓨터를 구입하지 않고 대용량 문제를 풀기 위한 접근법\n",
    "* 현업에서 얻은 교훈 : 현업에서 고군분투했던 문제에서 얻은 교훈"
   ]
  },
  {
   "cell_type": "markdown",
   "metadata": {},
   "source": [
    "### Python 2 vs Python 3\n",
    "* 파이썬 3는 파이썬의 미래이고 모두가 파이썬 3로 갈아타는 중이다. 파이썬 2.7도 수년간 사용되긴 할 것이지만, **2020년까지만** 지원예정이다.\n",
    "* 파이썬 3에서는 모든 변수가 **객체 (object)** 로 처리됩니다.\n",
    "* 이외의 내부 변화가 있습니다.\n",
    "    1. int 나누기 결과가 `float`\n",
    "    2. `print`문 괄호 필수\n",
    "    3. `str`과 `unicode`를 `str`로 통일함\n",
    "    4. `long` 을 `int`로 통일\n",
    "    5. `xrange` 지원하지 않는다.\n",
    "    \n",
    "   \n",
    "    \n",
    "* `__future__` 모듈"
   ]
  },
  {
   "cell_type": "code",
   "execution_count": 3,
   "metadata": {},
   "outputs": [
    {
     "name": "stdout",
     "output_type": "stream",
     "text": [
      "Cloning into 'high_performance_python'...\n",
      "remote: Enumerating objects: 829, done.\u001b[K\n",
      "remote: Total 829 (delta 0), reused 0 (delta 0), pack-reused 829\u001b[K\n",
      "Receiving objects: 100% (829/829), 17.20 MiB | 1.19 MiB/s, done.\n",
      "Resolving deltas: 100% (348/348), done.\n"
     ]
    }
   ],
   "source": [
    "! git clone https://github.com/scari/high_performance_python"
   ]
  },
  {
   "cell_type": "code",
   "execution_count": null,
   "metadata": {},
   "outputs": [],
   "source": []
  }
 ],
 "metadata": {
  "kernelspec": {
   "display_name": "Python 3",
   "language": "python",
   "name": "python3"
  },
  "language_info": {
   "codemirror_mode": {
    "name": "ipython",
    "version": 3
   },
   "file_extension": ".py",
   "mimetype": "text/x-python",
   "name": "python",
   "nbconvert_exporter": "python",
   "pygments_lexer": "ipython3",
   "version": "3.6.6"
  }
 },
 "nbformat": 4,
 "nbformat_minor": 2
}
