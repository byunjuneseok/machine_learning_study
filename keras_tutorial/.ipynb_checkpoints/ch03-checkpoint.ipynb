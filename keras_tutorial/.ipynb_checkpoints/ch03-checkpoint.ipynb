{
 "cells": [
  {
   "cell_type": "markdown",
   "metadata": {},
   "source": [
    "# 3장 신경망 시작하기\n",
    "---\n",
    "\n",
    "## 구성\n",
    "1. 신경망의 구조\n",
    "2. 케라스 소개\n",
    "3. 딥러닝 컴퓨터 세팅\n",
    "4. 영화 리뷰 분류\n",
    "5. 뉴스 기사 분류\n",
    "6. 주택 가격 예측\n",
    "7. 요약\n",
    "\n",
    "## 이 장에서 다룰 핵심 내용\n",
    "* 신경망의 핵심 구성 요소\n",
    "* 케라스 소개\n",
    "* 딥러닝 컴퓨터 세팅\n",
    "* 신경망으로 기초적인 분류와 회기 문제 풀기"
   ]
  },
  {
   "cell_type": "markdown",
   "metadata": {},
   "source": [
    "## 3.1 신경망의 구조"
   ]
  },
  {
   "cell_type": "markdown",
   "metadata": {},
   "source": [
    "신경망 훈련에는 다음 요소들이 관련되어 있습니다.\n",
    "* 네트워크 (또는 모델)을 구성하는 **층**\n",
    "* **입력데이터**와 그에 상응하는 **타깃**\n",
    "* 학습에 사용할 피드백 신호를 정의하는 **손실함수**\n",
    "* 학습 진행 방식을 결정하는 **옵티마이저**\n",
    "\n",
    "**층** : 딥러닝의 구성단위, 하나 이상의 텐서를 입력으로 받아 하나 이상의 텐서를 출력하는 데이터 처리 모듈입니다. 어떤 조율의 층은 상태가 없지만 대부분의 경우 가중치라는 층의 상태를 갖습니다. 가중치는 경사 하강법에 의해 학습되는 하나이상의 텐서이며 여기 네트워크가 학습한 *지식* 이 담겨있습니다.\n",
    "\n",
    "* 완전 연결 층 (Fully Connected Layer)\n",
    "* 밀집 연결 층 (Dense Connected Layer) \n",
    "* 순환 층 (Recurrent Layer)\n",
    "* 2D 합성곱 층 (Convolution Layer)"
   ]
  },
  {
   "cell_type": "code",
   "execution_count": null,
   "metadata": {},
   "outputs": [],
   "source": []
  }
 ],
 "metadata": {
  "kernelspec": {
   "display_name": "Python 3",
   "language": "python",
   "name": "python3"
  },
  "language_info": {
   "codemirror_mode": {
    "name": "ipython",
    "version": 3
   },
   "file_extension": ".py",
   "mimetype": "text/x-python",
   "name": "python",
   "nbconvert_exporter": "python",
   "pygments_lexer": "ipython3",
   "version": "3.6.6"
  }
 },
 "nbformat": 4,
 "nbformat_minor": 2
}
