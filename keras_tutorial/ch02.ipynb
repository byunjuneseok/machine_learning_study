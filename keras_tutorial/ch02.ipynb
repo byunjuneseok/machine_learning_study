{
 "cells": [
  {
   "cell_type": "markdown",
   "metadata": {},
   "source": [
    "# 2장 : 시작하기 전에 ; 신경망의 수학적 구성요소\n",
    "\n",
    "\n",
    "### 구성\n",
    "1. 신경망과의 첫 만남\n",
    "2. 신경망을 위한 데이터 표현\n",
    "3. 신경망의 톱니바퀴 : 텐서 연산\n",
    "4. 신경망의 엔진 : 그래디언트 기반 최적화\n",
    "5. 첫 번째 예제 다시 살펴보기\n",
    "6. 요약\n",
    "\n",
    "### 이 장에서 다룰 핵심 내용\n",
    "* 첫 번째 신경망 예제 만들기\n",
    "* 텐서와 텐서 연산의 개념\n",
    "* 역전파와 경사 하강법을 사용하여 신경망이 학습되는 방법\n",
    "\n",
    "---"
   ]
  },
  {
   "cell_type": "markdown",
   "metadata": {},
   "source": [
    "## 2.1 신경망과의 첫 만남"
   ]
  },
  {
   "cell_type": "code",
   "execution_count": 26,
   "metadata": {},
   "outputs": [],
   "source": [
    "from keras.datasets import mnist\n",
    "from keras import models\n",
    "from keras import layers\n",
    "from keras.utils import to_categorical\n",
    "\n",
    "(train_images, train_labels), (test_images, test_labels) = mnist.load_data()"
   ]
  },
  {
   "cell_type": "code",
   "execution_count": 27,
   "metadata": {},
   "outputs": [
    {
     "name": "stdout",
     "output_type": "stream",
     "text": [
      "훈련 데이터 셋의 개수 : 60000\n",
      "훈련 데이터의 크기 : (60000, 28, 28)\n",
      "테스트 데이터 셋의 개수 : 10000\n"
     ]
    }
   ],
   "source": [
    "### 28 x 28 크기의 이미지가 60000장이 있음을 알 수 있다.\n",
    "print('훈련 데이터 셋의 개수 :', len(train_images))\n",
    "print('훈련 데이터의 크기 :', train_images.shape)\n",
    "### 학습 후 모델이 적절한지 확인할 때 쓰이는 테스트 데이터의 개수\n",
    "print('테스트 데이터 셋의 개수 :', len(test_images))"
   ]
  },
  {
   "cell_type": "code",
   "execution_count": 28,
   "metadata": {},
   "outputs": [],
   "source": [
    "network = models.Sequential()\n",
    "network.add(layers.Dense(512, activation = 'relu', input_shape = (28 * 28,)))\n",
    "network.add(layers.Dense(10, activation = 'softmax'))"
   ]
  },
  {
   "cell_type": "markdown",
   "metadata": {},
   "source": [
    "두 번째 (마지막) 층은 10개의 확률점수가 들어가있는 배열(모두 더하면 1)을 반환하는 **소프트맥스** 층입니다. 각 점수는 현재 숫자 이미지가 10개의 숫자 클래스 중 하나에 속할 확률입니다.\n",
    "\n",
    "신경망이 훈련 준비를 마치기 위해서 컴파일 단계에 포함될 세 가지가 더 필요합니다.\n",
    "1. **손실함수 (loss function)** :  훈련 데이터에서 신경망의 성능을 측정하는 방법으로 네트워크가 옳은 방향으로 학습될 수 있도록 도와줍니다.\n",
    "2. **옵티마이저 (Optimizer)** : 입력된 데이터와 손실함수를 기반으로 네트워크를 업데이트하는 메커니즘입니다.\n",
    "3. **훈련과 테스트 과정을 모니터링할 지표** : 여기서는 정확도(정확히 분류된 이미지의 비율)만을 고려합니다."
   ]
  },
  {
   "cell_type": "code",
   "execution_count": 29,
   "metadata": {},
   "outputs": [],
   "source": [
    "network.compile(optimizer = 'rmsprop',\n",
    "               loss = 'categorical_crossentropy',\n",
    "               metrics = ['accuracy'])"
   ]
  },
  {
   "cell_type": "code",
   "execution_count": 30,
   "metadata": {},
   "outputs": [],
   "source": [
    "### 이미지 데이터 준비하기.\n",
    "train_images = train_images.reshape((60000, 28 * 28))\n",
    "train_images = train_images.astype('float32') / 255\n",
    "\n",
    "test_images = test_images.reshape((10000, 28 * 28))\n",
    "test_images = test_images.astype('float32') / 255"
   ]
  },
  {
   "cell_type": "code",
   "execution_count": 31,
   "metadata": {},
   "outputs": [],
   "source": [
    "train_labels = to_categorical(train_labels)\n",
    "test_labels = to_categorical(test_labels)"
   ]
  },
  {
   "cell_type": "code",
   "execution_count": 32,
   "metadata": {},
   "outputs": [
    {
     "name": "stdout",
     "output_type": "stream",
     "text": [
      "Epoch 1/5\n",
      "60000/60000 [==============================] - 3s 42us/step - loss: 0.2564 - acc: 0.9258\n",
      "Epoch 2/5\n",
      "60000/60000 [==============================] - 2s 31us/step - loss: 0.1037 - acc: 0.9687\n",
      "Epoch 3/5\n",
      "60000/60000 [==============================] - 2s 31us/step - loss: 0.0675 - acc: 0.9797\n",
      "Epoch 4/5\n",
      "60000/60000 [==============================] - 2s 31us/step - loss: 0.0491 - acc: 0.9854\n",
      "Epoch 5/5\n",
      "60000/60000 [==============================] - 2s 31us/step - loss: 0.0373 - acc: 0.9890\n"
     ]
    },
    {
     "data": {
      "text/plain": [
       "<keras.callbacks.History at 0x7fd53a4280b8>"
      ]
     },
     "execution_count": 32,
     "metadata": {},
     "output_type": "execute_result"
    }
   ],
   "source": [
    "network.fit(train_images, train_labels, epochs = 5, batch_size = 128)"
   ]
  },
  {
   "cell_type": "code",
   "execution_count": 33,
   "metadata": {},
   "outputs": [
    {
     "name": "stdout",
     "output_type": "stream",
     "text": [
      "10000/10000 [==============================] - 0s 47us/step\n"
     ]
    }
   ],
   "source": [
    "test_loss, test_acc = network.evaluate(test_images, test_labels)"
   ]
  },
  {
   "cell_type": "code",
   "execution_count": 34,
   "metadata": {},
   "outputs": [
    {
     "name": "stdout",
     "output_type": "stream",
     "text": [
      "테스트 정확도 : 0.9811\n"
     ]
    }
   ],
   "source": [
    "print('테스트 정확도 :', test_acc)"
   ]
  },
  {
   "cell_type": "markdown",
   "metadata": {},
   "source": [
    "## 2.2 신경망을 위한 데이터 표현"
   ]
  },
  {
   "cell_type": "code",
   "execution_count": 38,
   "metadata": {},
   "outputs": [],
   "source": [
    "import numpy as np\n",
    "\n",
    "### 예를 들어, ndim을 통해서 그 텐서의 랭크를 알 수 있습니다.\n",
    "x = np.array([[[2, 3, 4, 2, 1], [1, 2, 1, 1, 3], [8, 2, 3, 2, 3]], \n",
    "              [[1, 2, 2, 4, 1], [1, 1, 2, 3, 4], [5, 7, 3, 1, 2]], \n",
    "              [[2, 8, 1, 2, 3], [7, 7, 1, 2, 2], [6, 2, 3, 2, 4]]])\n"
   ]
  },
  {
   "cell_type": "markdown",
   "metadata": {},
   "source": [
    "### 텐서의 핵심 속성\n",
    "\n",
    "* 축의 개수 (랭크) : 예를 들어 3D Tensor에는 3개의 축이 있고, 행렬에는 2개의 축이 있습니다. 넘파이 라이브러리에서는 `ndim`속성에 저장되어 있습니다.\n",
    "* 크기 (shape) : 텐서를 각 축에 따라 얼마나 많은 차원이 있는지를 나타낸 파이썬의 튜플입니다.\n",
    "    위의 3D Tensor의 Shape 는 (3, 3, 5)입니다.\n",
    "* 데이터 타입 : 넘파이에서는 `dtype`에 저장됩니다."
   ]
  },
  {
   "cell_type": "code",
   "execution_count": 40,
   "metadata": {},
   "outputs": [
    {
     "name": "stdout",
     "output_type": "stream",
     "text": [
      "x의 rank  : 3\n",
      "x의 shape : (3, 3, 5)\n",
      "x의 dtype : int64\n"
     ]
    }
   ],
   "source": [
    "print('x의 rank  :', x.ndim)\n",
    "print('x의 shape :', x.shape)\n",
    "print('x의 dtype :', x.dtype)"
   ]
  },
  {
   "cell_type": "markdown",
   "metadata": {},
   "source": [
    "### 이미지 출력해보기"
   ]
  },
  {
   "cell_type": "code",
   "execution_count": 43,
   "metadata": {},
   "outputs": [
    {
     "data": {
      "text/plain": [
       "<matplotlib.image.AxesImage at 0x7fd5186971d0>"
      ]
     },
     "execution_count": 43,
     "metadata": {},
     "output_type": "execute_result"
    },
    {
     "data": {
      "image/png": "[encoded data removed]",
      "text/plain": [
       "<Figure size 432x288 with 1 Axes>"
      ]
     },
     "metadata": {
      "needs_background": "light"
     },
     "output_type": "display_data"
    }
   ],
   "source": [
    "import matplotlib.pyplot as plt\n",
    "\n",
    "(a, b), (c, d) = mnist.load_data()\n",
    "\n",
    "digit = a[4]\n",
    "plt.imshow(digit, cmap = plt.cm.binary)"
   ]
  },
  {
   "cell_type": "markdown",
   "metadata": {},
   "source": [
    "### 넘파이로 텐서 조작하기"
   ]
  },
  {
   "cell_type": "code",
   "execution_count": 44,
   "metadata": {},
   "outputs": [
    {
     "name": "stdout",
     "output_type": "stream",
     "text": [
      "(90, 28, 28)\n"
     ]
    }
   ],
   "source": [
    "### 11번째에서 101번째까지 숫자를 선택하여 배열을 만드는 과정임\n",
    "my_slice = a[10:100]\n",
    "print(my_slice.shape)"
   ]
  },
  {
   "cell_type": "code",
   "execution_count": 47,
   "metadata": {},
   "outputs": [
    {
     "name": "stdout",
     "output_type": "stream",
     "text": [
      "(60000, 14, 14)\n"
     ]
    },
    {
     "data": {
      "text/plain": [
       "<matplotlib.image.AxesImage at 0x7fd502fc2518>"
      ]
     },
     "execution_count": 47,
     "metadata": {},
     "output_type": "execute_result"
    },
    {
     "data": {
      "image/png": "[encoded data removed]",
      "text/plain": [
       "<Figure size 432x288 with 1 Axes>"
      ]
     },
     "metadata": {
      "needs_background": "light"
     },
     "output_type": "display_data"
    }
   ],
   "source": [
    "### 오른 쪽 하단의 14 x 14픽셀을 선택하는 과정임\n",
    "my_slice = a[:, 14:, 14:,]\n",
    "print(my_slice.shape)\n",
    "test_digit = my_slice[4]\n",
    "plt.imshow(test_digit, cmap = plt.cm.binary)"
   ]
  },
  {
   "cell_type": "markdown",
   "metadata": {},
   "source": [
    "### 배치데이터\n",
    "\n",
    "딥러닝 모델은 한 번에 전체 데이터 셋을 처리하지 않습니다. 그 대신 데이터를 작은 배치로 나눕니다. 구체적으로 말하면 MNIST 숫자 데이터에서 크기가 128인 배치 하나는 다음과 같습니다."
   ]
  },
  {
   "cell_type": "code",
   "execution_count": 50,
   "metadata": {},
   "outputs": [],
   "source": [
    "### n번째 배치 데이터\n",
    "# batch = a[128 * n: 128 * (n+1)]"
   ]
  },
  {
   "cell_type": "markdown",
   "metadata": {},
   "source": [
    "### 텐서의 실제 사례\n",
    "* **백터 데이터** : (samples, features) 크기의 2D Tensor\n",
    "* **시계열 데이터** 또는 **시퀀스 데이터** : (samples, timesteps, features) 크기의 3D Tensor\n",
    "* **이미지** : (samples, height, width, channels)또는 (samples, channels, height, width) 크기의 4D Tensor\n",
    "* **동영싱** : (samples, frames, height, width, channels)또는 (Samples, frames, channels, height, width) 크기의 5D Tensor"
   ]
  },
  {
   "cell_type": "markdown",
   "metadata": {},
   "source": [
    "## 2.3 신경망의 톱니바퀴 ; 텐서 연산"
   ]
  },
  {
   "cell_type": "markdown",
   "metadata": {},
   "source": [
    "### 연산\n",
    "\n",
    "`keras.layers.Dense(512, activation = 'relu')`\n",
    "\n",
    "\n",
    "이 층은 2D Tensor를 입력으로 받고 입력 텐서의 새로운 또 다른 2D 텐서를 반환하는 함수처럼 해석할 수 있습니다. 구체적으로 보면 이 함수는 다음과 같습니다.\n",
    "\n",
    "\n",
    "`output = relu(dot(W, input) + b)`\n",
    "\n",
    "2D 텐서와 벡터 b 사이의 덧셈, 마지막으로 relu연산을 한 것입니다. relu는 `max(x, 0)`을 의미합니다."
   ]
  },
  {
   "cell_type": "markdown",
   "metadata": {},
   "source": [
    "### 브로드캐스팅\n",
    "\n",
    "'크기가 다른 두 텐서가 더해질 때 무슨 일이 일어나는가' = 모호하지 않고 실행 가능하다면 작은 텐서가 큰 텐서의 크기에 맞추어 **브로드캐스팅** 됩니다. 브로드캐스팅은 아래의 두 단계로 이루어집니다.\n",
    "1. 큰 텐서의 ndim에 맞도록 작은 텐서에 브로드캐스팅 축이 추가됩니다.\n",
    "2. 작은 텐서가 새 추을 따라서 큰 텐서의 크기에 맞도록 반복됩니다."
   ]
  },
  {
   "cell_type": "markdown",
   "metadata": {},
   "source": [
    "## 2.4 신경망의 엔진 : 그레디언트 기반 최적화\n",
    "\n",
    "### 훈련은 다음과 같은 *훈련반복루프(Training Loop)* 안에서 일어납니다. 필요한 만큼 반복 루프 안에서 이런 단계가 반복됩니다.\n",
    "1. 훈련 샘플 x와 이에 상응하는 타깃 y의 배치를 추출한다.\n",
    "2. x를 사용하여 네트워크를 실행하고 (**정방향 패스 (Forward pass)** 단계), 예측 y_pred를 구합니다.\n",
    "3. y_pred와 y의 차이를 측정하여 이 배치에 대한 네트워크의 손실을 계산합니다.\n",
    "4. 배치에 대한 손실이 조금 감소되도록 네트워크의 모든 가중치를 업데이트합니다.\n",
    "\n",
    "### 텐서 연산의 변화율 : 그레디언트\n",
    "\n",
    "**그레디언트** 는 텐서 연산의 변화율입니다. 이는 다차원 입력, 즉 텐서를 입력으로 받는 함수에 변화율 개념을 확장시킨 것입니다.\n",
    "\n",
    "### 확률적 경사 하강법 ( `미니 배치 확률적 경사하강법 (SGD ; mini-batch stochastic gradient descent`)\n",
    "*확률적* 이라는 단어는 각 배치 데이터가 무작위로 선택된다는 의미입니다.\n",
    "\n",
    "1. 훈련 샘플 배치 x와 이에 상응하는 타깃 y를 추출합니다.\n",
    "2. x로 네트워크를 실행하고 예측 y_pred를 구합니다.\n",
    "3. 이 배치에서 y_pred와 y 사이의 오차를 측정하여 네트워크의 손실을 계산합니다.\n",
    "4. 네트워크의 파라미터에 대한 손실 함수의 그레디언트를 게산합니다. (**역방향 패스 (Backward Pass)**)\n",
    "5. 그래디언트의 반대 방향으로 파라미터를 조금 이동 시킵니다."
   ]
  },
  {
   "cell_type": "code",
   "execution_count": null,
   "metadata": {},
   "outputs": [],
   "source": []
  }
 ],
 "metadata": {
  "kernelspec": {
   "display_name": "Python 3",
   "language": "python",
   "name": "python3"
  },
  "language_info": {
   "codemirror_mode": {
    "name": "ipython",
    "version": 3
   },
   "file_extension": ".py",
   "mimetype": "text/x-python",
   "name": "python",
   "nbconvert_exporter": "python",
   "pygments_lexer": "ipython3",
   "version": "3.6.6"
  }
 },
 "nbformat": 4,
 "nbformat_minor": 2
}
