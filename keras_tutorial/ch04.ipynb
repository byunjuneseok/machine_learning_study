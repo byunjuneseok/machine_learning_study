{
 "cells": [
  {
   "cell_type": "markdown",
   "metadata": {},
   "source": [
    "# 4장 : 머신러닝의 기본요소\n",
    "\n",
    "\n",
    "### 구성\n",
    "1. 머신러닝의 네가지 분류\n",
    "2. 머신 러닝 모델 평가\n",
    "3. 데이터 전처리, 특성공학, 특성 학습\n",
    "4. 과대 적합과 과소 적합\n",
    "5. 보편적인 머신러닝 작업 흐름\n",
    "6. 요약\n",
    "\n",
    "\n",
    "### 이 장에서 다룰 핵심 내용\n",
    "* 분류와 회귀 이외의 머신 러닝 형태\n",
    "* 머신 러닝 모델의 올바른 평가 과정\n",
    "* 딥러닝을 위한 데이터 전처리\n",
    "* 특성 공학\n",
    "* 과대적합 문제 해결\n",
    "* 머신 러닝 문제를 다루는 일반적인 작업 흐름\n",
    "\n",
    "---"
   ]
  },
  {
   "cell_type": "markdown",
   "metadata": {},
   "source": [
    "## 4.2 머신러닝 모델 평가\n",
    "훈련에서 사용된 동일한 데이터로 모델을 평가하지 않은 이유는 **몇번의 에포크 이후로 과대적합되기 시작했기 때문**입니다. 머신러닝의 목표는 처음 본 데이터에서 잘 작동하는 일반화된 모델을 얻는 것 입니다. 여기에서 과대적합은 주요 장애물입니다. 관측할 수 있는 것만 제어할 수 있으므로 모델의 일반화 성능에 대한 신뢰할 수 있는 측정방법이 아주 중요합니다."
   ]
  },
  {
   "cell_type": "markdown",
   "metadata": {},
   "source": [
    "### 훈련, 검증, 테스트 세트\n",
    "모델 평가의 핵심은 *가용한 데이터를 항상 훈련, 검증 테스트 3개의 세트로 나누는 것*입니다. 훈련 세트에서 모델을 훈련하고 검증 세트에서 모델을 평가합니다. 모델을 출시할 준비가 되면 테스트세트에서 최종적으로 딱 한 번 모델을 테스트합니다."
   ]
  },
  {
   "cell_type": "markdown",
   "metadata": {},
   "source": [
    "* 훈련 셋, 테스트 셋 총 2개만 사용하면 어떤가?\n",
    "    * 훨씬 간단한 것 같지만, 이렇게 하지 않는 이유는 **모델을 개발할 때 항상 모델의 설정을 튜닝**하기 때문입니다. (Hyperparameter ; 층의 수나 유닛 층의 수\n",
    "    * 검증 세트에서 모델의 성능을 평가하여 이런 튜닝을 수행합니다. 본질적으로 이런 튜닝도 어떤 파라미터 공간에서 좋은 설정을 찾는 **학습** 입니다.\n",
    "    * 검증 세트의 성능을 기반으로 모델의 설정을 튜닝하면 검증 세트로 모델을 직접 훈련하지 않더라도 빠르게 검증 세트에 과대적합될 수 있습니다.\n",
    "    \n",
    "\n",
    "* 정보 누설 (Information Leak) : 검증 세트의 모델 성능에 기반하여 모델의 하이퍼파라미터를 조정할 때마다 검증 데이터에 관한 정보가 모델로 새는 것입니다. 검증 데이터 세트에 맞춰 최적화했기 때문에 검증 데이터에 의도적으로 잘 수행되는 모델이 만들어집니다. 검증데이터가 아니고 완전히 새로운 데이터에 대한 성능이 관심 대상이라면 모델을 평가하기 위해 이전에 본 적 없는 완전히 다른 데이터셋을 사용해야합니다. 이것이 바로 *테스트 데이터*입니다.\n",
    "\n",
    "\n",
    "* 데이터를 훈련, 검증, 테스트 세트로 나누는 것은 간단해보일 수 있지만 몇가지 고급 기법을 사용하면 도움이 됩니다. : hold-out validation, K-fold cross-validation, Shuffling"
   ]
  },
  {
   "cell_type": "markdown",
   "metadata": {},
   "source": [
    "#### 단순 홀드아웃 검증 (Hold-out Variation)\n",
    "데이터의 일정량을 테스트 세트로 떄어놓는다. 정보 누설을 막기 위해 테스트 세트를 사용하여 모델 튜닝을 하면 안됩니다. 이런 이유로 검증 세트도 따로 떼어 놓아야 합니다."
   ]
  },
  {
   "cell_type": "code",
   "execution_count": null,
   "metadata": {},
   "outputs": [],
   "source": [
    "import numpy as np\n",
    "\n",
    "num_validation_samples = 10000\n",
    "\n",
    "np.random.shuffle(data)\n",
    "\n",
    "# 검증 세트를 만듭니다.\n",
    "validation_data = data[:num_validation_samples]\n",
    "data = data[num_validation_samples:]\n",
    "\n",
    "# 훈련 세트를 만듭니다.\n",
    "training_data = data[:]\n",
    "\n",
    "# 훈련 세트에서 모델을 훈련하고 검증세트로 평가합니다.\n",
    "model = get_model()\n",
    "model.train(training_data)\n",
    "validation_score = model.evaluate(validation_data)\n",
    "\n",
    "### 여기서 모델을 튜닝하고\n",
    "### 다시 훈련 -> 평가 -> 튜닝 의 반복\n",
    "\n",
    "# 하이퍼파라미터 튜닝이 끝나면 테스트 데이터를 제외한 모든 데이터를 사용하여 모델을 다시 훈련시킵니다.\n",
    "model = get_model()\n",
    "model.train(np.concatenate([training_data,\n",
    "                           validation_data]))\n",
    "test_score = model.evaluate(testdata)"
   ]
  },
  {
   "cell_type": "markdown",
   "metadata": {},
   "source": [
    "이 평가 방법은 단순해서 한가지 단점이 있습니다. 데이터가 적을 때는 검증 세트와 테스트의 샘플이 너무 적어 주어진 전체 데이터를 통계적으로 대표하지 못할 수도 있습니다."
   ]
  },
  {
   "cell_type": "markdown",
   "metadata": {},
   "source": [
    "#### K-겹 교차 검증 (K-Fold Cross-validation)\n",
    "\n",
    "\n",
    "데이터를 동일한 크기를 가진 K개 분할로 나눕니다. 각 분할 i 에 대하여 남은 K - 1개의 분할로 모델을 훈련하고 분할 i에서 모델을 평가합니다. 최종 점수는 **이렇게 얻은 K개의 점수를 평균합니다.** 모델의 성능이 데이터 분할에 따라 편차가 클 때 도움이 됩니다. 단순 홀드아웃 검증과 똑같이 모델의 튜닝에 별개의 검증세트를 사용하게 됩니다."
   ]
  },
  {
   "cell_type": "code",
   "execution_count": null,
   "metadata": {},
   "outputs": [],
   "source": [
    "k = 4\n",
    "num_validation_samples =len(data) / 4\n",
    "\n",
    "np.random.shuffle(data)\n",
    "\n",
    "validation_scores = []\n",
    "for fold in range(k):\n",
    "    validation_data = data[num_validation_samples * fold:num_validation_samples * (fold + 1)]\n",
    "    training_data = data[:num_validation_samples * fold] + data[num_validation_samples * (fold+1):]\n",
    "    \n",
    "model = get_model()\n",
    "model.train(training_data)\n",
    "validation_score = model.evaluate(validation_data)\n",
    "validation_scores.append(validation_score)\n",
    "\n",
    "validation_score  =  np.average(validation_score)\n",
    "\n",
    "model = get_model()\n",
    "model.train(data)\n",
    "test_score = model.evaluate(test_data)"
   ]
  },
  {
   "cell_type": "markdown",
   "metadata": {},
   "source": [
    "#### **셔플링**을 사용한 반복 K-겹 교차 검증\n",
    "\n",
    "이 방법은 비교적 *가용 데이터가 적고 가능한 정환한 모델을 평가하고자 할 때* 사용합니다. **캐글 경연에서는 이 방법이 아주 크게 도움이 됩니다.** \n",
    "이 방법은 K-겹 교차 검증을 여러번 적용하게 되 K개의 분할로 나누기 전에 매번 데이터를 무작위로 섞습니다. 최종 점수는 모든 K-겹 교차 검증을 실행해서 얻은 점수의 평균이 됩니다. P X K 의 모델로 훈련하고 평가하므로 비용이 많이듭니다. (P : 반복 횟수)"
   ]
  },
  {
   "cell_type": "markdown",
   "metadata": {},
   "source": [
    "### 기억해야할 것\n",
    "평가 방식을 선택할 때 다음 사항을 유념해야 합니다.\n",
    "1. **대표성 있는 데이터**\n",
    "2. **시간의 방향** : 과거로부터 미래를 예측하려고 한다면, 데이터를 분할하기 전에 무작위로 섞어서는 저랟로 안됩니다. 이렇게 하면 미래의 정보가 누설되기 떄문입니다. 즉, 모델이 사실상 미래 데이터에서 훈련될 것입니다. 이런 문제에서는 훈련 세트에 있는 데이터보다 테스트 세트에 있는 모든 데이터가 미래의 것이어야 합니다.\n",
    "3. **데이터 중복**"
   ]
  },
  {
   "cell_type": "markdown",
   "metadata": {},
   "source": [
    "## 4.3 데이터 전처리, 특성 공학, 특성 학습\n",
    "\n",
    "*많은 데이터 전처리와 특성 공학기법은 **특정 도메인에 종속적**입니다.*\n",
    "\n",
    "### 신경망을 위한 데이터 전처리\n",
    "\n",
    "데이터 전처리의 목적은 주어진 원본 데이터를 신경망에 적용하기 쉽도록 만드는 것입니다.\n",
    "\n",
    "#### 벡터화 (Vectorization)\n",
    "신경망에서 모든 입력과 타깃은 부동 소수 데이터로 이루어진 텐서어야 합니다. (특정 경우 정수로 이루어진 텐서) 처리해야할 것이 무엇이든지 먼저 텐서로 변환해야 합니다.\n",
    "\n",
    "#### 값 정규화 (Normalization)\n",
    "일반적으로 비교적 큰 값이나 균일하지 않은 데이터를 신경망에 주입하는 것은 위험합니다. 이렇게 하면 업데이트할 그레디언트가 커져 네트워크가 수렴하는 것을 방해합니다.\n",
    "* 작은 값을 취합니다. 일반적으로 값이 *0 ~ 1* 사이어야 합니다.\n",
    "* 균일해야합니다. 즉 모든 특성이 대체로 비슷한 범위를 가져야 합니다\n",
    "\n",
    "추가적으로 다음으로 나오는 엄격한 정규화 방법은 꼭 필수적이지는 않지만 자주 사용되고 도움이 될 수 있습니다.\n",
    "* 각 특성별로 평균이 0이 되도록 정규합니다.\n",
    "* 각 특성별로 표준 편차가 1이 되도록 정규화합니다."
   ]
  },
  {
   "cell_type": "code",
   "execution_count": null,
   "metadata": {},
   "outputs": [],
   "source": [
    "x -= x.mean(axis = 0)\n",
    "x /= x.std(axis = 0)"
   ]
  },
  {
   "cell_type": "markdown",
   "metadata": {},
   "source": [
    "#### 누락된 값 다루기\n",
    "\n",
    "어떤 특성이 모든 샘플에는 들어있지 않는 경우가 있을 수도 있습니다. 일반적으로 신경망에서 0이 사전 정의된 의미있는 값이 아니라면 누락된 값을 0으로 입력해도 괜찮습니다. 네트워크가 0이 누락된 데이터를 의미한다는 것을 학습하면 **이 값을 무시하기 시작할 것입니다.** 반면 네트워크가 누락된 값이 없는 데이터에서 훈련을 받았다면, 이 네트워크는 누락된 값을 무시하는 법을 알지 못합니다. 이런 경우, 누락된 값이 있는 훈련 샘플을 **고의적으로 만들어야합니다.** 훈련 샘플의 일부를 여러벌 복사해서 테스트 데이터에서 빠질 것 같은 특성을 제거합니다."
   ]
  },
  {
   "cell_type": "markdown",
   "metadata": {},
   "source": [
    "### 특성 공학\n",
    "\n",
    "특성 공학은 데이터와 머신 러닝 알고리즘에 관한 지식을 사용하는 단계입니다. 모델에 데이터를 주입하기 전에 하드코딩된 변환을 적용하여 알고리즘이 더 잘 수행되도록 만들어줍니다. 많은 경우에 머신 러닝 모델이 임의의 데이터로부터 완벽한 학습을 한다고 기대하긴 어렵습니다. 모델이 수월하게 작업할 수 있는 어떤 방시긍로 데이터가 표현될 필요가 있습니다.\n",
    "\n",
    "**특성을 더 간단한 방식**으로 표현하여 문제를 쉽게 만듭니다. 일반적으로 해당 문제를 아주 잘 이해하고 있어야 합니다. *다행이 최근 딥러닝은 대부분 특성공학이 필요하지 않습니다.* 신경망이 자동으로 원본데이터에서 유용한 특성을 추출할 수 있기 때문입니다.\n",
    "* 좋은 특성은 적은 자원을 사용하여 문제를 더 멋지게 풀어낼 수 있습니다.\n",
    "* 조흔 특성은 더 적은 데이터로 문제를 풀 수 있습니다. 샘플의 개수가 적다면 특성에 있는 정보가 매우 중요해집니다.\n"
   ]
  },
  {
   "cell_type": "markdown",
   "metadata": {},
   "source": [
    "## 4.4 과대적합 (Overfitting), 과소적합 (Underfitting)"
   ]
  },
  {
   "cell_type": "markdown",
   "metadata": {},
   "source": [
    "머신러닝의 근본적인 이슈는 **최적화(Optimization)과 일반화(Generalization)의 줄다리기** 입니다. 최적화는 가능한 훈련 데이터에서 최고의 성능을 얻으려고 모델을 조정하는 과정입니다. (학습), 일반화는 훈련된 모델이 이전에 본 적 없는 데이터에서 얼마나 잘 수행되는 지를 의미합니다.\n",
    "\n",
    "모델이 관련성이 없고 조지 못한 패턴을 훈련 데이터에서 학습하지 못하도록 하려면 **가장 좋은 방법은 더 많은 훈련데이터를 모으는 것**입니다. 데이터를 더 모으는 것이 불가능할 때 차선책은 모델이 수용할 수 있는 정보의 양을 조절하거나 저장할 수 있는 정보에 제약을 가하는 것입니다. 네트워크가 적은 수의 패턴만 기억할 수 있다면 최적화 과정에서 가장 중요한 패턴에 집중하게 될 것입니다. 이런 패턴은 더 나은 일반화 성능을 제공할 수 있습니다. (= **규제 (Regulization)**)"
   ]
  },
  {
   "cell_type": "markdown",
   "metadata": {},
   "source": [
    "### 네트워크 크기 축소\n",
    "\n",
    "딥러닝에서 모델에 있는 학습 파라미터의 수를 종종 모델의 용량 (Capacity)라고 말합니다. **손실을 최소화하기 위해 타깃에 대한 예측 성능을 가진 압축된 표현 학습을 해야합니다.** 동시에 기억해야할 것은 **과소적합되지 않도록 충분한 파라미터를 가진 모델을 사용해야 한다는 점**입니다."
   ]
  },
  {
   "cell_type": "code",
   "execution_count": 16,
   "metadata": {},
   "outputs": [],
   "source": [
    "from keras import models\n",
    "from keras import layers\n",
    "\n",
    "model1 = models.Sequential()\n",
    "model1.add(layers.Dense(16, activation = 'relu', input_shape = (10000, )))\n",
    "model1.add(layers.Dense(16, activation = 'relu'))\n",
    "model1.add(layers.Dense(1, activation = 'sigmoid'))"
   ]
  },
  {
   "cell_type": "code",
   "execution_count": 17,
   "metadata": {},
   "outputs": [],
   "source": [
    "### 더 작은 네트워크로 바꾸면...\n",
    "\n",
    "model2 = models.Sequential()\n",
    "model2.add(layers.Dense(6, activation = 'relu', input_shape = (10000, )))\n",
    "model2.add(layers.Dense(6, activation = 'relu'))\n",
    "model2.add(layers.Dense(1, activation = 'sigmoid'))"
   ]
  },
  {
   "cell_type": "markdown",
   "metadata": {},
   "source": [
    "##### 영화 리뷰 분류에 적용해보자."
   ]
  },
  {
   "cell_type": "code",
   "execution_count": 7,
   "metadata": {},
   "outputs": [],
   "source": [
    "import numpy as np\n",
    "\n",
    "def vectorize_sequences(sequences, dimension = 10000):\n",
    "    results = np.zeros((len(sequences), dimension))\n",
    "    for i, sequence in enumerate(sequences):\n",
    "        results[i, sequence] = 1\n",
    "    return results"
   ]
  },
  {
   "cell_type": "code",
   "execution_count": 8,
   "metadata": {},
   "outputs": [],
   "source": [
    "from keras.datasets import imdb\n",
    "\n",
    "(train_data, train_labels), (test_data, test_labels) = imdb.load_data(num_words = 10000)"
   ]
  },
  {
   "cell_type": "code",
   "execution_count": 9,
   "metadata": {},
   "outputs": [],
   "source": [
    "word_index = imdb.get_word_index()\n",
    "reverse_word_index = dict([(value, key) for (key, value) in word_index.items()])\n",
    "decoded_review = ' '.join([reverse_word_index.get(i - 3, '?') for i in train_data[0]])"
   ]
  },
  {
   "cell_type": "code",
   "execution_count": 10,
   "metadata": {},
   "outputs": [],
   "source": [
    "x_train = vectorize_sequences(train_data)\n",
    "y_train = np.asarray(train_labels).astype('float32')\n",
    "\n",
    "x_test = vectorize_sequences(test_data)\n",
    "y_test  = np.asarray(test_labels).astype('float32')\n",
    "\n",
    "x_val = x_train[:10000]\n",
    "y_val = y_train[:10000]\n",
    "\n",
    "x_train = x_train[10000:]\n",
    "y_train = y_train[10000:]"
   ]
  },
  {
   "cell_type": "code",
   "execution_count": 28,
   "metadata": {},
   "outputs": [
    {
     "name": "stdout",
     "output_type": "stream",
     "text": [
      "Train on 15000 samples, validate on 10000 samples\n",
      "Epoch 1/20\n",
      "15000/15000 [==============================] - 3s 205us/step - loss: 0.5143 - acc: 0.7780 - val_loss: 0.3908 - val_acc: 0.8565\n",
      "Epoch 2/20\n",
      "15000/15000 [==============================] - 2s 166us/step - loss: 0.2991 - acc: 0.9006 - val_loss: 0.3018 - val_acc: 0.8863\n",
      "Epoch 3/20\n",
      "15000/15000 [==============================] - 2s 159us/step - loss: 0.2159 - acc: 0.9291 - val_loss: 0.2767 - val_acc: 0.8910\n",
      "Epoch 4/20\n",
      "15000/15000 [==============================] - 2s 165us/step - loss: 0.1719 - acc: 0.9434 - val_loss: 0.2762 - val_acc: 0.8908\n",
      "Epoch 5/20\n",
      "15000/15000 [==============================] - 3s 171us/step - loss: 0.1373 - acc: 0.9557 - val_loss: 0.2824 - val_acc: 0.8889\n",
      "Epoch 6/20\n",
      "15000/15000 [==============================] - 3s 170us/step - loss: 0.1162 - acc: 0.9635 - val_loss: 0.2980 - val_acc: 0.8873\n",
      "Epoch 7/20\n",
      "15000/15000 [==============================] - 3s 172us/step - loss: 0.0966 - acc: 0.9717 - val_loss: 0.3170 - val_acc: 0.8824\n",
      "Epoch 8/20\n",
      "15000/15000 [==============================] - 3s 169us/step - loss: 0.0806 - acc: 0.9773 - val_loss: 0.3386 - val_acc: 0.8819\n",
      "Epoch 9/20\n",
      "15000/15000 [==============================] - 3s 173us/step - loss: 0.0677 - acc: 0.9819 - val_loss: 0.3865 - val_acc: 0.8716\n",
      "Epoch 10/20\n",
      "15000/15000 [==============================] - 3s 172us/step - loss: 0.0565 - acc: 0.9847 - val_loss: 0.4082 - val_acc: 0.8718\n",
      "Epoch 11/20\n",
      "15000/15000 [==============================] - 2s 164us/step - loss: 0.0452 - acc: 0.9893 - val_loss: 0.4180 - val_acc: 0.8737\n",
      "Epoch 12/20\n",
      "15000/15000 [==============================] - 3s 170us/step - loss: 0.0389 - acc: 0.9905 - val_loss: 0.4392 - val_acc: 0.8741\n",
      "Epoch 13/20\n",
      "15000/15000 [==============================] - 3s 168us/step - loss: 0.0324 - acc: 0.9927 - val_loss: 0.4642 - val_acc: 0.8735\n",
      "Epoch 14/20\n",
      "15000/15000 [==============================] - 3s 168us/step - loss: 0.0268 - acc: 0.9939 - val_loss: 0.4977 - val_acc: 0.8720\n",
      "Epoch 15/20\n",
      "15000/15000 [==============================] - 3s 170us/step - loss: 0.0209 - acc: 0.9961 - val_loss: 0.5265 - val_acc: 0.8710\n",
      "Epoch 16/20\n",
      "15000/15000 [==============================] - 3s 168us/step - loss: 0.0166 - acc: 0.9975 - val_loss: 0.5616 - val_acc: 0.8698\n",
      "Epoch 17/20\n",
      "15000/15000 [==============================] - 3s 171us/step - loss: 0.0119 - acc: 0.9985 - val_loss: 0.6567 - val_acc: 0.8592\n",
      "Epoch 18/20\n",
      "15000/15000 [==============================] - 3s 171us/step - loss: 0.0093 - acc: 0.9993 - val_loss: 0.6946 - val_acc: 0.8543\n",
      "Epoch 19/20\n",
      "15000/15000 [==============================] - 3s 171us/step - loss: 0.0100 - acc: 0.9983 - val_loss: 0.6624 - val_acc: 0.8652\n",
      "Epoch 20/20\n",
      "15000/15000 [==============================] - 3s 168us/step - loss: 0.0047 - acc: 0.9999 - val_loss: 0.7009 - val_acc: 0.8632\n"
     ]
    }
   ],
   "source": [
    "model1.compile(optimizer = 'rmsprop',\n",
    "              loss = 'binary_crossentropy',\n",
    "              metrics = ['acc'])\n",
    "\n",
    "his1 = model1.fit(x_train, y_train, epochs = 20, batch_size = 512, validation_data = (x_val, y_val))"
   ]
  },
  {
   "cell_type": "code",
   "execution_count": 29,
   "metadata": {},
   "outputs": [
    {
     "name": "stdout",
     "output_type": "stream",
     "text": [
      "Train on 15000 samples, validate on 10000 samples\n",
      "Epoch 1/20\n",
      "15000/15000 [==============================] - 3s 185us/step - loss: 0.6048 - acc: 0.6905 - val_loss: 0.5515 - val_acc: 0.7196\n",
      "Epoch 2/20\n",
      "15000/15000 [==============================] - 2s 163us/step - loss: 0.4752 - acc: 0.8509 - val_loss: 0.4374 - val_acc: 0.8741\n",
      "Epoch 3/20\n",
      "15000/15000 [==============================] - 2s 166us/step - loss: 0.3581 - acc: 0.9073 - val_loss: 0.3578 - val_acc: 0.8840\n",
      "Epoch 4/20\n",
      "15000/15000 [==============================] - 2s 165us/step - loss: 0.2792 - acc: 0.9295 - val_loss: 0.3148 - val_acc: 0.8865\n",
      "Epoch 5/20\n",
      "15000/15000 [==============================] - 2s 165us/step - loss: 0.2264 - acc: 0.9377 - val_loss: 0.2951 - val_acc: 0.8885\n",
      "Epoch 6/20\n",
      "15000/15000 [==============================] - 2s 164us/step - loss: 0.1894 - acc: 0.9474 - val_loss: 0.2779 - val_acc: 0.8913\n",
      "Epoch 7/20\n",
      "15000/15000 [==============================] - 2s 166us/step - loss: 0.1605 - acc: 0.9557 - val_loss: 0.2751 - val_acc: 0.8893\n",
      "Epoch 8/20\n",
      "15000/15000 [==============================] - 2s 166us/step - loss: 0.1394 - acc: 0.9609 - val_loss: 0.2827 - val_acc: 0.8856\n",
      "Epoch 9/20\n",
      "15000/15000 [==============================] - 2s 165us/step - loss: 0.1210 - acc: 0.9678 - val_loss: 0.2875 - val_acc: 0.8852\n",
      "Epoch 10/20\n",
      "15000/15000 [==============================] - 3s 167us/step - loss: 0.1049 - acc: 0.9723 - val_loss: 0.2963 - val_acc: 0.8827\n",
      "Epoch 11/20\n",
      "15000/15000 [==============================] - 2s 165us/step - loss: 0.0928 - acc: 0.9757 - val_loss: 0.3073 - val_acc: 0.8831\n",
      "Epoch 12/20\n",
      "15000/15000 [==============================] - 3s 171us/step - loss: 0.0804 - acc: 0.9807 - val_loss: 0.3122 - val_acc: 0.8824\n",
      "Epoch 13/20\n",
      "15000/15000 [==============================] - 3s 167us/step - loss: 0.0703 - acc: 0.9846 - val_loss: 0.3560 - val_acc: 0.8722\n",
      "Epoch 14/20\n",
      "15000/15000 [==============================] - 2s 165us/step - loss: 0.0606 - acc: 0.9873 - val_loss: 0.3404 - val_acc: 0.8793\n",
      "Epoch 15/20\n",
      "15000/15000 [==============================] - 3s 170us/step - loss: 0.0530 - acc: 0.9893 - val_loss: 0.3718 - val_acc: 0.8757\n",
      "Epoch 16/20\n",
      "15000/15000 [==============================] - 3s 169us/step - loss: 0.0457 - acc: 0.9914 - val_loss: 0.3757 - val_acc: 0.8761\n",
      "Epoch 17/20\n",
      "15000/15000 [==============================] - 3s 170us/step - loss: 0.0391 - acc: 0.9927 - val_loss: 0.3909 - val_acc: 0.8748\n",
      "Epoch 18/20\n",
      "15000/15000 [==============================] - 3s 168us/step - loss: 0.0332 - acc: 0.9947 - val_loss: 0.4139 - val_acc: 0.8739\n",
      "Epoch 19/20\n",
      "15000/15000 [==============================] - 3s 171us/step - loss: 0.0275 - acc: 0.9962 - val_loss: 0.4332 - val_acc: 0.8719\n",
      "Epoch 20/20\n",
      "15000/15000 [==============================] - 3s 169us/step - loss: 0.0232 - acc: 0.9968 - val_loss: 0.4594 - val_acc: 0.8701\n"
     ]
    }
   ],
   "source": [
    "model2.compile(optimizer = 'rmsprop',\n",
    "              loss = 'binary_crossentropy',\n",
    "              metrics = ['acc'])\n",
    "\n",
    "his2 = model2.fit(x_train, y_train, epochs = 20, batch_size = 512, validation_data = (x_val, y_val))"
   ]
  },
  {
   "cell_type": "code",
   "execution_count": 12,
   "metadata": {},
   "outputs": [],
   "source": [
    "import matplotlib.pyplot as plt\n",
    "\n",
    "def draw_graph_loss(history):\n",
    "        history_dict = history.history\n",
    "        loss = history_dict['loss']\n",
    "        val_loss = history_dict['val_loss']\n",
    "        epochs = range(1, len(loss) + 1)\n",
    "        plt.plot(epochs, loss, 'bo', label = 'Training loss')\n",
    "        plt.plot(epochs, val_loss, 'b',label = 'Validation loss')\n",
    "        plt.title('Training and validation loss')\n",
    "        plt.xlabel('Epochs')\n",
    "        plt.ylabel('Loss')\n",
    "        plt.legend()\n",
    "        plt.show()\n",
    "        plt.clf()\n",
    "        \n",
    "def draw_graph_acc(history):\n",
    "        history_dict = history.history\n",
    "        loss = history_dict['acc']\n",
    "        val_acc = history_dict['val_acc']\n",
    "        epochs = range(1, len(loss) + 1)\n",
    "        plt.plot(epochs, loss, 'bo', label = 'Training acc')\n",
    "        plt.plot(epochs, val_acc, 'b',label = 'Validation acc')\n",
    "        plt.title('Training and validation accuracy')\n",
    "        plt.xlabel('Epochs')\n",
    "        plt.ylabel('Accuracy')\n",
    "        plt.legend()\n",
    "        plt.show()\n",
    "        plt.clf()"
   ]
  },
  {
   "cell_type": "code",
   "execution_count": 50,
   "metadata": {},
   "outputs": [
    {
     "data": {
      "image/png": "[encoded data removed]",
      "text/plain": [
       "<Figure size 432x288 with 1 Axes>"
      ]
     },
     "metadata": {
      "needs_background": "light"
     },
     "output_type": "display_data"
    },
    {
     "data": {
      "image/png": "[encoded data removed]",
      "text/plain": [
       "<Figure size 432x288 with 1 Axes>"
      ]
     },
     "metadata": {
      "needs_background": "light"
     },
     "output_type": "display_data"
    },
    {
     "data": {
      "image/png": "[encoded data removed]",
      "text/plain": [
       "<Figure size 432x288 with 1 Axes>"
      ]
     },
     "metadata": {
      "needs_background": "light"
     },
     "output_type": "display_data"
    },
    {
     "data": {
      "image/png": "[encoded data removed]",
      "text/plain": [
       "<Figure size 432x288 with 1 Axes>"
      ]
     },
     "metadata": {
      "needs_background": "light"
     },
     "output_type": "display_data"
    },
    {
     "data": {
      "text/plain": [
       "<Figure size 432x288 with 0 Axes>"
      ]
     },
     "metadata": {},
     "output_type": "display_data"
    }
   ],
   "source": [
    "hisl = [his1, his2]\n",
    "\n",
    "for his in hisl:\n",
    "    draw_graph_loss(his)\n",
    "    draw_graph_acc(his)"
   ]
  },
  {
   "cell_type": "markdown",
   "metadata": {},
   "source": [
    "용량이 큰 네트워크는 첫 번째 에포크 이후 거의 바로 과대적합이 시작되어 갈수록 더 심해집니다. 검증 손실도 매우 불안정합니다. 큰 넽워크는 훈련손실이 매우 빠르게 0에 가까워집니다. 용량이 많은 네트워크일 수록 더 빠르게 훈련 데이터를 모델링 할 수 있습니다. (결국 훈련손실이 낮아집니다. ) **하지만 더욱 과대적합에 민감해집니다.**"
   ]
  },
  {
   "cell_type": "markdown",
   "metadata": {},
   "source": [
    "#### 가중치 규제 추가\n",
    "\n",
    "오캄의 면도날 (Occam's razor) 이론 : 어떤 것에 대한 두 가지의 설명이 있다면 더 적은 가정이 필요한 간단한 설명이 옳을 것이라는 이론\n",
    "어떤 훈련 데이터와 네트워크 구조가 주어졌을 때 데이터를 설명할 수있는 가중치 값의 집합은 여러 개 입니다. **간단한 모델이 복잡한 모델보다 덜 과대적합될 가능성이 높습니다.**\n",
    "\n",
    "**간단한 모델**은 파라미터 값 분포의 엔트로피가 작은 모델입니다. (또는 *적은 파라미터를 가진 모델* ) 그러므로 과대적합을 완화하기 위한 일반적인 방법은 네트워크의 복잡도에 제한을 두어 가중치가 작은 값을 가지도록 강제하는 것입니다. 가중치의 값의 분포가 더 균일하게 됩니다. 이를 **가중치 규제(weight regularization)** 입니다. 네트워크의 손실 함수에 큰 가중치에연관된 비용을 추가합니다.\n",
    "\n",
    "* **L1 규제** : 가중치의 절댓값에 비례하는 비용이 추가됩니다. (가중치의 L1 norm)\n",
    "* **L2 규제** : 가중치의 제곱에 비례하는 비용이 추가됩니다. (가중치의 L2 norm) L2규제는 신경망에서 **가중치 감쇠(weight decay)**라고도 부릅니다 (수학적으로 identical)**"
   ]
  },
  {
   "cell_type": "code",
   "execution_count": 6,
   "metadata": {},
   "outputs": [],
   "source": [
    "from keras import models\n",
    "from keras import layers\n",
    "from keras import regularizers\n",
    "\n",
    "model = models.Sequential()\n",
    "model.add(layers.Dense(16, kernel_regularizer = regularizers.l2(0.001), activation = 'relu', input_shape = (10000, )))\n",
    "model.add(layers.Dense(16, kernel_regularizer = regularizers.l2(0.001), activation = 'relu'))\n",
    "model.add(layers.Dense(1, activation = 'sigmoid')) "
   ]
  },
  {
   "cell_type": "code",
   "execution_count": 11,
   "metadata": {},
   "outputs": [
    {
     "name": "stdout",
     "output_type": "stream",
     "text": [
      "Train on 15000 samples, validate on 10000 samples\n",
      "Epoch 1/20\n",
      "15000/15000 [==============================] - 1s 94us/step - loss: 0.5881 - acc: 0.7771 - val_loss: 0.4685 - val_acc: 0.8702\n",
      "Epoch 2/20\n",
      "15000/15000 [==============================] - 1s 75us/step - loss: 0.3944 - acc: 0.8969 - val_loss: 0.3771 - val_acc: 0.8830\n",
      "Epoch 3/20\n",
      "15000/15000 [==============================] - 1s 75us/step - loss: 0.3099 - acc: 0.9182 - val_loss: 0.3396 - val_acc: 0.8904\n",
      "Epoch 4/20\n",
      "15000/15000 [==============================] - 1s 75us/step - loss: 0.2663 - acc: 0.9302 - val_loss: 0.3340 - val_acc: 0.8878\n",
      "Epoch 5/20\n",
      "15000/15000 [==============================] - 1s 75us/step - loss: 0.2408 - acc: 0.9371 - val_loss: 0.3273 - val_acc: 0.8887\n",
      "Epoch 6/20\n",
      "15000/15000 [==============================] - 1s 75us/step - loss: 0.2258 - acc: 0.9435 - val_loss: 0.3325 - val_acc: 0.8891\n",
      "Epoch 7/20\n",
      "15000/15000 [==============================] - 1s 75us/step - loss: 0.2099 - acc: 0.9511 - val_loss: 0.3359 - val_acc: 0.8844\n",
      "Epoch 8/20\n",
      "15000/15000 [==============================] - 1s 77us/step - loss: 0.2014 - acc: 0.9545 - val_loss: 0.3397 - val_acc: 0.8852\n",
      "Epoch 9/20\n",
      "15000/15000 [==============================] - 1s 76us/step - loss: 0.1936 - acc: 0.9562 - val_loss: 0.3962 - val_acc: 0.8637\n",
      "Epoch 10/20\n",
      "15000/15000 [==============================] - 1s 75us/step - loss: 0.1870 - acc: 0.9592 - val_loss: 0.3652 - val_acc: 0.8819\n",
      "Epoch 11/20\n",
      "15000/15000 [==============================] - 1s 80us/step - loss: 0.1791 - acc: 0.9624 - val_loss: 0.3719 - val_acc: 0.8792\n",
      "Epoch 12/20\n",
      "15000/15000 [==============================] - 1s 75us/step - loss: 0.1751 - acc: 0.9645 - val_loss: 0.3746 - val_acc: 0.8759\n",
      "Epoch 13/20\n",
      "15000/15000 [==============================] - 1s 81us/step - loss: 0.1713 - acc: 0.9647 - val_loss: 0.4052 - val_acc: 0.8738\n",
      "Epoch 14/20\n",
      "15000/15000 [==============================] - 1s 75us/step - loss: 0.1687 - acc: 0.9665 - val_loss: 0.3792 - val_acc: 0.8786\n",
      "Epoch 15/20\n",
      "15000/15000 [==============================] - 1s 76us/step - loss: 0.1597 - acc: 0.9703 - val_loss: 0.4673 - val_acc: 0.8584\n",
      "Epoch 16/20\n",
      "15000/15000 [==============================] - 1s 76us/step - loss: 0.1609 - acc: 0.9688 - val_loss: 0.4027 - val_acc: 0.8764\n",
      "Epoch 17/20\n",
      "15000/15000 [==============================] - 1s 76us/step - loss: 0.1559 - acc: 0.9711 - val_loss: 0.4105 - val_acc: 0.8751\n",
      "Epoch 18/20\n",
      "15000/15000 [==============================] - 1s 76us/step - loss: 0.1513 - acc: 0.9726 - val_loss: 0.4058 - val_acc: 0.8748\n",
      "Epoch 19/20\n",
      "15000/15000 [==============================] - 1s 76us/step - loss: 0.1523 - acc: 0.9711 - val_loss: 0.4416 - val_acc: 0.8706\n",
      "Epoch 20/20\n",
      "15000/15000 [==============================] - 1s 77us/step - loss: 0.1477 - acc: 0.9721 - val_loss: 0.4251 - val_acc: 0.8693\n"
     ]
    }
   ],
   "source": [
    "model.compile(optimizer = 'rmsprop',\n",
    "              loss = 'binary_crossentropy',\n",
    "              metrics = ['acc'])\n",
    "\n",
    "his = model.fit(x_train, y_train, epochs = 20, batch_size = 512, validation_data = (x_val, y_val))"
   ]
  },
  {
   "cell_type": "code",
   "execution_count": 13,
   "metadata": {},
   "outputs": [
    {
     "data": {
      "image/png": "[encoded data removed]",
      "text/plain": [
       "<Figure size 432x288 with 1 Axes>"
      ]
     },
     "metadata": {
      "needs_background": "light"
     },
     "output_type": "display_data"
    },
    {
     "data": {
      "text/plain": [
       "<Figure size 432x288 with 0 Axes>"
      ]
     },
     "metadata": {},
     "output_type": "display_data"
    }
   ],
   "source": [
    "draw_graph_loss(his)"
   ]
  },
  {
   "cell_type": "markdown",
   "metadata": {},
   "source": [
    "`l2(0.001)`는 가중치 행렬의 모든 원소를 제곱하고 0.001을 곱하여 네트워크의 전체 손실에 더해진다는 의미를 갖고 있습니다. 이 페널티 항은 훈련할 때만 추가됩니다. 이 네트워크의 손실은 테스트보다 훈련할 때 더 높을 것 입ㄴ디다. **L2 규제를 사용한 모델이 기본 모델보다 훨씬 과대적합에 잘 견디고 있습니다.**"
   ]
  },
  {
   "cell_type": "markdown",
   "metadata": {},
   "source": [
    "#### Dropout 추가\n",
    "신경망을 위해 사용되는 규제 기법 중에서 가장 효과적이고 널리 사용되는 방법 중 하나입니다. 네트워크 층에 드롭아웃을 적용하면 훈련하는 동안 무작위로 층의 일부 출력 특성을 제외시킵니다. (0으로 만듬) 한 층이 정상적으로 훈련하는 동안에는 어떤 입력 샘플에 대해 [0.2, 0.5, 1.3, 0.8, 1.1]벡터를 출력한다고 가정하면, 드롭아웃을 적용했을 때 이벡터의 일부가 0 으로 바뀝니다. (예를 들어 [0, 0.5, 1.3, 0, 1.1]) 드롭아웃의 비율은 0이 될 특성의 비율입니다. 보통 0.2 에서 0.5 사이로 지정됩니다. 테스트 단계에서는 어떤 유닛도 드롭아웃되지 않습니다. 그 대신에 층의 출력을 드롭아웃 비율에 비례하여 줄여 줍니다. 훈련할 때보다 더 많은 유닛이 활성화되기 때문입니다.\n",
    "\n",
    "**각 샘플에 대해 뉴런의 일부를 무작위하게 제거하면 뉴런의 부정한 협업을 방지하고 결국 과대적합을 감소시킨다.** 핵심 아이디어는 층의 출력 값에 노이즈를 추가하여 중요하지 않은 우연한 패턴을 깨뜨리는 것 입니다. 노이즈가 없다면 네트워크가 이 패턴을 기억하기 시작할 것 입니다."
   ]
  },
  {
   "cell_type": "code",
   "execution_count": 14,
   "metadata": {},
   "outputs": [
    {
     "name": "stdout",
     "output_type": "stream",
     "text": [
      "Train on 15000 samples, validate on 10000 samples\n",
      "Epoch 1/20\n",
      "15000/15000 [==============================] - 1s 90us/step - loss: 0.6118 - acc: 0.6641 - val_loss: 0.4984 - val_acc: 0.8044\n",
      "Epoch 2/20\n",
      "15000/15000 [==============================] - 1s 77us/step - loss: 0.4880 - acc: 0.7736 - val_loss: 0.3865 - val_acc: 0.8720\n",
      "Epoch 3/20\n",
      "15000/15000 [==============================] - 1s 78us/step - loss: 0.4059 - acc: 0.8373 - val_loss: 0.3377 - val_acc: 0.8737\n",
      "Epoch 4/20\n",
      "15000/15000 [==============================] - 1s 78us/step - loss: 0.3465 - acc: 0.8671 - val_loss: 0.2966 - val_acc: 0.8893\n",
      "Epoch 5/20\n",
      "15000/15000 [==============================] - 1s 78us/step - loss: 0.3059 - acc: 0.8916 - val_loss: 0.2802 - val_acc: 0.8899\n",
      "Epoch 6/20\n",
      "15000/15000 [==============================] - 1s 78us/step - loss: 0.2683 - acc: 0.9058 - val_loss: 0.2725 - val_acc: 0.8921\n",
      "Epoch 7/20\n",
      "15000/15000 [==============================] - 1s 78us/step - loss: 0.2382 - acc: 0.9211 - val_loss: 0.2735 - val_acc: 0.8904\n",
      "Epoch 8/20\n",
      "15000/15000 [==============================] - 1s 78us/step - loss: 0.2143 - acc: 0.9296 - val_loss: 0.2835 - val_acc: 0.8878\n",
      "Epoch 9/20\n",
      "15000/15000 [==============================] - 1s 78us/step - loss: 0.1891 - acc: 0.9380 - val_loss: 0.2903 - val_acc: 0.8909\n",
      "Epoch 10/20\n",
      "15000/15000 [==============================] - 1s 78us/step - loss: 0.1656 - acc: 0.9465 - val_loss: 0.3118 - val_acc: 0.8880\n",
      "Epoch 11/20\n",
      "15000/15000 [==============================] - 1s 77us/step - loss: 0.1514 - acc: 0.9483 - val_loss: 0.3328 - val_acc: 0.8862\n",
      "Epoch 12/20\n",
      "15000/15000 [==============================] - 1s 78us/step - loss: 0.1410 - acc: 0.9523 - val_loss: 0.3548 - val_acc: 0.8868\n",
      "Epoch 13/20\n",
      "15000/15000 [==============================] - 1s 78us/step - loss: 0.1249 - acc: 0.9603 - val_loss: 0.3691 - val_acc: 0.8877\n",
      "Epoch 14/20\n",
      "15000/15000 [==============================] - 1s 78us/step - loss: 0.1192 - acc: 0.9600 - val_loss: 0.3718 - val_acc: 0.8861\n",
      "Epoch 15/20\n",
      "15000/15000 [==============================] - 1s 78us/step - loss: 0.1116 - acc: 0.9627 - val_loss: 0.4071 - val_acc: 0.8850\n",
      "Epoch 16/20\n",
      "15000/15000 [==============================] - 1s 79us/step - loss: 0.1016 - acc: 0.9645 - val_loss: 0.4229 - val_acc: 0.8867\n",
      "Epoch 17/20\n",
      "15000/15000 [==============================] - 1s 79us/step - loss: 0.1012 - acc: 0.9651 - val_loss: 0.4390 - val_acc: 0.8837\n",
      "Epoch 18/20\n",
      "15000/15000 [==============================] - 1s 79us/step - loss: 0.0868 - acc: 0.9696 - val_loss: 0.4852 - val_acc: 0.8858\n",
      "Epoch 19/20\n",
      "15000/15000 [==============================] - 1s 79us/step - loss: 0.0896 - acc: 0.9688 - val_loss: 0.5023 - val_acc: 0.8855\n",
      "Epoch 20/20\n",
      "15000/15000 [==============================] - 1s 78us/step - loss: 0.0876 - acc: 0.9705 - val_loss: 0.5307 - val_acc: 0.8839\n"
     ]
    },
    {
     "data": {
      "image/png": "[encoded data removed]",
      "text/plain": [
       "<Figure size 432x288 with 1 Axes>"
      ]
     },
     "metadata": {
      "needs_background": "light"
     },
     "output_type": "display_data"
    },
    {
     "data": {
      "text/plain": [
       "<Figure size 432x288 with 0 Axes>"
      ]
     },
     "metadata": {},
     "output_type": "display_data"
    }
   ],
   "source": [
    "model = models.Sequential()\n",
    "model.add(layers.Dense(16, activation = 'relu', input_shape = (10000, )))\n",
    "model.add(layers.Dropout(0.5))\n",
    "model.add(layers.Dense(16, activation = 'relu'))\n",
    "model.add(layers.Dropout(0.5))\n",
    "model.add(layers.Dense(1, activation = 'sigmoid')) \n",
    "\n",
    "model.compile(optimizer = 'rmsprop',\n",
    "              loss = 'binary_crossentropy',\n",
    "              metrics = ['acc'])\n",
    "\n",
    "his = model.fit(x_train, y_train, epochs = 20, batch_size = 512, validation_data = (x_val, y_val))\n",
    "\n",
    "draw_graph_loss(his)"
   ]
  },
  {
   "cell_type": "markdown",
   "metadata": {},
   "source": [
    "#### SUMMARY\n",
    "신경망에서 과대 적합을 막기위해 가장 널리 사용하는 방법은 다음과 같습니다.\n",
    "* 훈련 데이터를 더 모읍니다.\n",
    "* 네트워크의 용량을 감소합니다.\n",
    "* 가중치 규제를 추가합니다.\n",
    "* 드롭아웃을 추가합니다."
   ]
  },
  {
   "cell_type": "markdown",
   "metadata": {},
   "source": [
    "## 4.5 보편적인 머신러닝의 작업흐름"
   ]
  },
  {
   "cell_type": "markdown",
   "metadata": {},
   "source": [
    "#### 문제 정의와 데이터셋 수집\n",
    "\n",
    "#### 성공 지표 선택\n",
    "\n",
    "#### 평가 방법 선택 \n",
    "* 홀드아웃 검증 세트 분리 : 데이터가 풍부할 때 사용합니다.\n",
    "* K-겹 교차 검증 : 홀드아웃 검증을 사용하기에 샘플의 수가 너무 적을 때 사용합니다.\n",
    "* 반복 K-겹 교차 검증 : 데이터가 적고 매우 정확한 모델 평가가 필요할 때 사용합니다.\n",
    "\n",
    "#### 데이터 준비\n",
    "* 앞서 보았듯이 데이터는 텐서로 구성됩니다.\n",
    "* 이 텐서에 있는 값은 일반적으로 작은 값으로 스케일 조정되어 있습니다. 예를 들어 [-1, 1] 또는 [0, 1]의 범위입니다.\n",
    "* 특성마다 범위가 다르면 정규화해야 합니다.\n",
    "* 특성 공학을 수행할 수 있습니다. 특히 데이터가 적을 때입니다.\n",
    "\n",
    "#### 기본보다 나은 모델 훈련하기\n",
    "일이 잘 진행된다고 가정하면 첫 번쨰 모델을 만들기 위해 세가지 중요한 선택을 해야합니다.\n",
    "* 마지막 층의 활성화 함수 : 네트워크 출력의 필요한 제한을 가합니다.\n",
    "* 손실 함수 : 풀료고 하는 문제의 종류에 적합해야 합니다.\n",
    "* 최적화 설정\n",
    "\n",
    "문제 유형 | 마지막 층의 활성화 함수 | 손실함수\n",
    "-|-|-\n",
    "이진 분류 | 시그모이드 | `binary_crossentropy`\n",
    "단일 레이블 다중 분류 | 소프트맥스 | `categorical_crossentropy`\n",
    "다중 레이블 다중 분류 | 시그모이드 | `binary_crossentropy`\n",
    "임의 값에 대환 회귀 | 없음 | `mse`\n",
    "0과 1 사이의 값에 대한 회귀 | 시그모이드 | `mse`또는 `binary_crossentropy`\n",
    "\n",
    "#### 몸집 키우기 : 과대적합 모델 구축\n",
    "\n",
    "1. 층을 추가합니다.\n",
    "2. 층의 크기를 키웁니다\n",
    "\n",
    "#### 모델 규제와 하이퍼파라미터 튜닝"
   ]
  },
  {
   "cell_type": "code",
   "execution_count": null,
   "metadata": {},
   "outputs": [],
   "source": []
  }
 ],
 "metadata": {
  "kernelspec": {
   "display_name": "Python 3",
   "language": "python",
   "name": "python3"
  },
  "language_info": {
   "codemirror_mode": {
    "name": "ipython",
    "version": 3
   },
   "file_extension": ".py",
   "mimetype": "text/x-python",
   "name": "python",
   "nbconvert_exporter": "python",
   "pygments_lexer": "ipython3",
   "version": "3.6.6"
  }
 },
 "nbformat": 4,
 "nbformat_minor": 2
}
